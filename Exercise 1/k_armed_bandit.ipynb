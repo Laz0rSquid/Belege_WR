{
 "cells": [
  {
   "cell_type": "code",
   "execution_count": 1,
   "metadata": {
    "collapsed": true
   },
   "outputs": [],
   "source": [
    "import numpy as np"
   ]
  },
  {
   "cell_type": "code",
   "execution_count": null,
   "metadata": {
    "collapsed": true
   },
   "outputs": [],
   "source": [
    "# 2. Implement the 10-armed Testbed"
   ]
  },
  {
   "cell_type": "code",
   "execution_count": 2,
   "metadata": {
    "collapsed": true
   },
   "outputs": [],
   "source": [
    "def get_bandit_function(bandits_means, bandits_sigma=1):\n",
    "    def bandit_function(action):\n",
    "        # function prototype with deviation, see https://docs.scipy.org/doc/numpy-1.13.0/reference/generated/numpy.random.randn.html\n",
    "        return bandit_means[action] * np.random.randn(1) * bandits_sigma\n",
    "    return bandit_function"
   ]
  },
  {
   "cell_type": "code",
   "execution_count": 5,
   "metadata": {},
   "outputs": [
    {
     "data": {
      "text/plain": [
       "array([ 1.54132427])"
      ]
     },
     "execution_count": 5,
     "metadata": {},
     "output_type": "execute_result"
    }
   ],
   "source": [
    "bandit_means = np.array([-2.04402703,  0.78691329, -1.51854861, -0.74964035, 0.87538815, 1.51307674, -1.43232683, -0.62838404, -0.03584927, -0.29624793])\n",
    "bnd_fc = get_bandit_function(bandit_means, bandits_sigma=1)\n",
    "bnd_fc(action=4)"
   ]
  },
  {
   "cell_type": "code",
   "execution_count": null,
   "metadata": {
    "collapsed": true
   },
   "outputs": [],
   "source": [
    "# 3. Implementation of a simple ϵ-greedy bandit algorithm"
   ]
  },
  {
   "cell_type": "code",
   "execution_count": null,
   "metadata": {
    "collapsed": true
   },
   "outputs": [],
   "source": []
  },
  {
   "cell_type": "code",
   "execution_count": null,
   "metadata": {
    "collapsed": true
   },
   "outputs": [],
   "source": [
    "def get_average_rewards(epsilon=0.1, optimistic=0., nb_runs=2000, nb_steps=1000):\n",
    "    \"\"\"\n",
    "    Compute the average reward for different 10-armed bandit problems.\n",
    "    \n",
    "    Parameters\n",
    "    ----------\n",
    "    epsilon : float\n",
    "        epsilon: probability of chosing a random action (exploration).\n",
    "    optimistic: float\n",
    "        Initial value value of all action-values.\n",
    "    nb_runs: int\n",
    "        Number of runs with different 10-armed bandits for the averaging.\n",
    "    nb_steps: int\n",
    "        Number of steps. How often each bandit is played.\n",
    "    \n",
    "    Returns\n",
    "    -------\n",
    "    numpy array (dtype: double)\n",
    "        averaged rewards. i-th element in the array contains the average reward at iteration step i.\n",
    "    numpy array (dtype: double)\n",
    "        averaged percentage of using the optimal action. i-th element in the array contains the average reward at iteration step i.    \n",
    "    \"\"\"\n",
    "    raise NotImplementedError()"
   ]
  },
  {
   "cell_type": "code",
   "execution_count": null,
   "metadata": {
    "collapsed": true
   },
   "outputs": [],
   "source": [
    "avg_rewards_e005, optimal_actions_e005 = get_average_rewards(epsilon=0.05, optimistic=0.)"
   ]
  },
  {
   "cell_type": "code",
   "execution_count": null,
   "metadata": {
    "collapsed": true
   },
   "outputs": [],
   "source": [
    "plt.plot(np.arange(nb_steps), avg_rewards_e01, label='$\\epsilon=0.1$')\n",
    "plt.plot(np.arange(nb_steps), avg_rewards_e005, label='$\\epsilon=0.05$')\n",
    "plt.plot(np.arange(nb_steps), avg_rewards_e001, label='$\\epsilon=0.01$')\n",
    "plt.plot(np.arange(nb_steps), avg_rewards_greedy, label='greedy')\n",
    "\n",
    "plt.legend(loc=4)\n",
    "plt.xlabel(\"steps\")\n",
    "plt.ylabel(\"average reward\")\n",
    "\n"
   ]
  },
  {
   "cell_type": "code",
   "execution_count": null,
   "metadata": {
    "collapsed": true
   },
   "outputs": [],
   "source": [
    "plt.plot(np.arange(nb_steps), optimal_actions_e01, label='$\\epsilon=0.1$')\n",
    "plt.plot(np.arange(nb_steps), optimal_actions_e005, label='$\\epsilon=0.05$')\n",
    "plt.plot(np.arange(nb_steps), optimal_actions_e001, label='$\\epsilon=0.01$')\n",
    "plt.plot(np.arange(nb_steps), optimal_actions_greedy, label='greedy')\n",
    "\n",
    "plt.legend(loc=4)\n",
    "plt.ylim(0., 1.05)\n",
    "plt.xlabel(\"steps\")\n",
    "plt.ylabel(\"% optimal action\")"
   ]
  }
 ],
 "metadata": {
  "kernelspec": {
   "display_name": "Python 2",
   "language": "python",
   "name": "python2"
  },
  "language_info": {
   "codemirror_mode": {
    "name": "ipython",
    "version": 2
   },
   "file_extension": ".py",
   "mimetype": "text/x-python",
   "name": "python",
   "nbconvert_exporter": "python",
   "pygments_lexer": "ipython2",
   "version": "2.7.12"
  }
 },
 "nbformat": 4,
 "nbformat_minor": 2
}
