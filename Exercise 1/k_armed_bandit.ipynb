{
 "cells": [
  {
   "cell_type": "code",
   "execution_count": 1,
   "metadata": {
    "collapsed": false
   },
   "outputs": [],
   "source": [
    "import numpy as np\n",
    "import matplotlib.pyplot as plt"
   ]
  },
  {
   "cell_type": "code",
   "execution_count": 2,
   "metadata": {
    "collapsed": true
   },
   "outputs": [],
   "source": [
    "# 2. Implement the 10-armed Testbed"
   ]
  },
  {
   "cell_type": "code",
   "execution_count": 48,
   "metadata": {
    "collapsed": false
   },
   "outputs": [],
   "source": [
    "def get_bandit_function(bandits_means, bandits_sigma=1):\n",
    "    def bandit_function(action):\n",
    "        return np.random.normal(bandit_means[action], bandits_sigma)\n",
    "    return bandit_function"
   ]
  },
  {
   "cell_type": "code",
   "execution_count": 52,
   "metadata": {
    "collapsed": false
   },
   "outputs": [
    {
     "data": {
      "text/plain": [
       "0.5769761166268218"
      ]
     },
     "execution_count": 52,
     "metadata": {},
     "output_type": "execute_result"
    }
   ],
   "source": [
    "bandit_means = np.array([-2.04402703,  0.78691329, -1.51854861, -0.74964035, 0.87538815, 1.51307674, -1.43232683, -0.62838404, -0.03584927, -0.29624793])\n",
    "bnd_fc = get_bandit_function(bandit_means, bandits_sigma=1)\n",
    "bnd_fc(action=4)"
   ]
  },
  {
   "cell_type": "code",
   "execution_count": 53,
   "metadata": {
    "collapsed": true
   },
   "outputs": [],
   "source": [
    "# 3. Implementation of a simple ϵ-greedy bandit algorithm"
   ]
  },
  {
   "cell_type": "code",
   "execution_count": 67,
   "metadata": {
    "collapsed": true
   },
   "outputs": [],
   "source": [
    "def get_average_rewards(epsilon=0.1, optimistic=0., nb_runs=2000, nb_steps=1000):\n",
    "    Q_Avg = np.zeros(nb_steps) # average Q\n",
    "    for i in range(0, nb_runs):\n",
    "        Q = np.full((10), optimistic) # Q of a specific bandit\n",
    "        N = np.zeros(10) # how often each action is chosen\n",
    "        bandit_means = np.random.normal(1,1,10)\n",
    "        optimal_action = np.argmax(bandit_means)\n",
    "        bandit_func = get_bandit_function(bandit_means)\n",
    "        for j in range(nb_steps):\n",
    "            # action = 0\n",
    "            if (np.random.random() >= epsilon):\n",
    "                #random exploration\n",
    "                action = np.random.randint(0,10)  \n",
    "            else:\n",
    "                # greedy action\n",
    "                action = np.argmax(Q)\n",
    "            N[action] = N[action] + 1\n",
    "            reward = bandit_func(action)\n",
    "            Q[action] = Q[action] + (1/N[action]) * (reward - Q[action])\n",
    "            \n",
    "            Q_Avg[j] = Q_Avg[j] + reward\n",
    "        # \n",
    "    for n in range(len(Q_Avg)):\n",
    "        Q_Avg[n] = Q_Avg[n] / nb_runs\n",
    "    return Q_Avg\n",
    "        # Q_Avg[nb_runs] = np.sum(Q) / len(Q)\n",
    "        \n",
    "    \"\"\"\n",
    "    Compute the average reward for different 10-armed bandit problems.\n",
    "    \n",
    "    Parameters\n",
    "    ----------\n",
    "    epsilon : float\n",
    "        epsilon: probability of chosing a random action (exploration).\n",
    "    optimistic: float\n",
    "        Initial value value of all action-values.\n",
    "    nb_runs: int\n",
    "        Number of runs with different 10-armed bandits for the averaging.\n",
    "    nb_steps: int\n",
    "        Number of steps. How often each bandit is played.\n",
    "    \n",
    "    Returns\n",
    "    -------\n",
    "    numpy array (dtype: double)\n",
    "        averaged rewards. i-th element in the array contains the average reward at iteration step i.\n",
    "    numpy array (dtype: double)\n",
    "        averaged percentage of using the optimal action. i-th element in the array contains the average reward at iteration step i.    \n",
    "    \"\"\"\n",
    "    raise NotImplementedError()"
   ]
  },
  {
   "cell_type": "code",
   "execution_count": 70,
   "metadata": {
    "collapsed": false
   },
   "outputs": [],
   "source": [
    "#avg_rewards_e01, optimal_actions_e005 = get_average_rewards(epsilon=0.1, optimistic=0.)\n",
    "#avg_rewards_e005, optimal_actions_e005 = get_average_rewards(epsilon=0.05, optimistic=0.)\n",
    "#avg_rewards_e001, optimal_actions_e005 = get_average_rewards(epsilon=0.01, optimistic=0.)\n",
    "#avg_rewards_greedy, optimal_actions_e005 = get_average_rewards(epsilon=0, optimistic=0.)\n",
    "\n",
    "avg_rewards_e01 = get_average_rewards(epsilon=0.1, optimistic=0.)\n",
    "avg_rewards_e005 = get_average_rewards(epsilon=0.05, optimistic=0.)\n",
    "avg_rewards_e001 = get_average_rewards(epsilon=0.01, optimistic=0.)\n",
    "avg_rewards_greedy = get_average_rewards(epsilon=0, optimistic=0.)\n",
    "#print(avg_rewards_e001)\n",
    "nb_steps = len(avg_rewards_e005)\n"
   ]
  },
  {
   "cell_type": "code",
   "execution_count": 71,
   "metadata": {
    "collapsed": false
   },
   "outputs": [
    {
     "data": {
      "image/png": "[encoded data removed]",
      "text/plain": [
       "<matplotlib.figure.Figure at 0x7f8dd5a6c910>"
      ]
     },
     "metadata": {},
     "output_type": "display_data"
    }
   ],
   "source": [
    "plt.plot(np.arange(nb_steps), avg_rewards_e01, label='$\\epsilon=0.1$')\n",
    "plt.plot(np.arange(nb_steps), avg_rewards_e005, label='$\\epsilon=0.05$')\n",
    "plt.plot(np.arange(nb_steps), avg_rewards_e001, label='$\\epsilon=0.01$')\n",
    "plt.plot(np.arange(nb_steps), avg_rewards_greedy, label='greedy')\n",
    "\n",
    "plt.legend(loc=4)\n",
    "plt.xlabel(\"steps\")\n",
    "plt.ylabel(\"average reward\")\n",
    "plt.show()\n"
   ]
  },
  {
   "cell_type": "code",
   "execution_count": 10,
   "metadata": {
    "collapsed": false
   },
   "outputs": [
    {
     "ename": "NameError",
     "evalue": "name 'optimal_actions_e01' is not defined",
     "output_type": "error",
     "traceback": [
      "\u001b[0;31m---------------------------------------------------------------------------\u001b[0m",
      "\u001b[0;31mNameError\u001b[0m                                 Traceback (most recent call last)",
      "\u001b[0;32m<ipython-input-10-5aec11e39255>\u001b[0m in \u001b[0;36m<module>\u001b[0;34m()\u001b[0m\n\u001b[0;32m----> 1\u001b[0;31m \u001b[0mplt\u001b[0m\u001b[0;34m.\u001b[0m\u001b[0mplot\u001b[0m\u001b[0;34m(\u001b[0m\u001b[0mnp\u001b[0m\u001b[0;34m.\u001b[0m\u001b[0marange\u001b[0m\u001b[0;34m(\u001b[0m\u001b[0mnb_steps\u001b[0m\u001b[0;34m)\u001b[0m\u001b[0;34m,\u001b[0m \u001b[0moptimal_actions_e01\u001b[0m\u001b[0;34m,\u001b[0m \u001b[0mlabel\u001b[0m\u001b[0;34m=\u001b[0m\u001b[0;34m'$\\epsilon=0.1$'\u001b[0m\u001b[0;34m)\u001b[0m\u001b[0;34m\u001b[0m\u001b[0m\n\u001b[0m\u001b[1;32m      2\u001b[0m \u001b[0mplt\u001b[0m\u001b[0;34m.\u001b[0m\u001b[0mplot\u001b[0m\u001b[0;34m(\u001b[0m\u001b[0mnp\u001b[0m\u001b[0;34m.\u001b[0m\u001b[0marange\u001b[0m\u001b[0;34m(\u001b[0m\u001b[0mnb_steps\u001b[0m\u001b[0;34m)\u001b[0m\u001b[0;34m,\u001b[0m \u001b[0moptimal_actions_e005\u001b[0m\u001b[0;34m,\u001b[0m \u001b[0mlabel\u001b[0m\u001b[0;34m=\u001b[0m\u001b[0;34m'$\\epsilon=0.05$'\u001b[0m\u001b[0;34m)\u001b[0m\u001b[0;34m\u001b[0m\u001b[0m\n\u001b[1;32m      3\u001b[0m \u001b[0mplt\u001b[0m\u001b[0;34m.\u001b[0m\u001b[0mplot\u001b[0m\u001b[0;34m(\u001b[0m\u001b[0mnp\u001b[0m\u001b[0;34m.\u001b[0m\u001b[0marange\u001b[0m\u001b[0;34m(\u001b[0m\u001b[0mnb_steps\u001b[0m\u001b[0;34m)\u001b[0m\u001b[0;34m,\u001b[0m \u001b[0moptimal_actions_e001\u001b[0m\u001b[0;34m,\u001b[0m \u001b[0mlabel\u001b[0m\u001b[0;34m=\u001b[0m\u001b[0;34m'$\\epsilon=0.01$'\u001b[0m\u001b[0;34m)\u001b[0m\u001b[0;34m\u001b[0m\u001b[0m\n\u001b[1;32m      4\u001b[0m \u001b[0mplt\u001b[0m\u001b[0;34m.\u001b[0m\u001b[0mplot\u001b[0m\u001b[0;34m(\u001b[0m\u001b[0mnp\u001b[0m\u001b[0;34m.\u001b[0m\u001b[0marange\u001b[0m\u001b[0;34m(\u001b[0m\u001b[0mnb_steps\u001b[0m\u001b[0;34m)\u001b[0m\u001b[0;34m,\u001b[0m \u001b[0moptimal_actions_greedy\u001b[0m\u001b[0;34m,\u001b[0m \u001b[0mlabel\u001b[0m\u001b[0;34m=\u001b[0m\u001b[0;34m'greedy'\u001b[0m\u001b[0;34m)\u001b[0m\u001b[0;34m\u001b[0m\u001b[0m\n\u001b[1;32m      5\u001b[0m \u001b[0;34m\u001b[0m\u001b[0m\n",
      "\u001b[0;31mNameError\u001b[0m: name 'optimal_actions_e01' is not defined"
     ]
    }
   ],
   "source": [
    "plt.plot(np.arange(nb_steps), optimal_actions_e01, label='$\\epsilon=0.1$')\n",
    "plt.plot(np.arange(nb_steps), optimal_actions_e005, label='$\\epsilon=0.05$')\n",
    "plt.plot(np.arange(nb_steps), optimal_actions_e001, label='$\\epsilon=0.01$')\n",
    "plt.plot(np.arange(nb_steps), optimal_actions_greedy, label='greedy')\n",
    "\n",
    "plt.legend(loc=4)\n",
    "plt.ylim(0., 1.05)\n",
    "plt.xlabel(\"steps\")\n",
    "plt.ylabel(\"% optimal action\")"
   ]
  }
 ],
 "metadata": {
  "kernelspec": {
   "display_name": "Python 3",
   "language": "python",
   "name": "python3"
  },
  "language_info": {
   "codemirror_mode": {
    "name": "ipython",
    "version": 2
   },
   "file_extension": ".py",
   "mimetype": "text/x-python",
   "name": "python",
   "nbconvert_exporter": "python",
   "pygments_lexer": "ipython2",
   "version": "2.7.13"
  }
 },
 "nbformat": 4,
 "nbformat_minor": 2
}
