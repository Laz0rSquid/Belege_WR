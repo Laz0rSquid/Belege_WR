{
 "cells": [
  {
   "cell_type": "code",
   "execution_count": 1,
   "metadata": {
    "collapsed": true
   },
   "outputs": [],
   "source": [
    "import numpy as np\n",
    "import scipy.stats\n",
    "import scipy\n",
    "import logging as logger"
   ]
  },
  {
   "cell_type": "code",
   "execution_count": 2,
   "metadata": {
    "collapsed": true
   },
   "outputs": [],
   "source": [
    "class JacksCarRentalEnvironment(object):\n",
    "\n",
    "    MAX_CAPACITY = 20\n",
    "    TRANSFER_COST = 2\n",
    "    REQUEST_RATE = [3, 4]\n",
    "    RETURN_RATE = [3, 2]\n",
    "    RENTAL_INCOME = 10\n",
    "    \n",
    "    def __init(self):\n",
    "        self = self.reset()\n",
    "\n",
    "    def step(self, action):\n",
    "        done = False\n",
    "        reward = 0\n",
    "        info = ''\n",
    "\n",
    "        if(np.min(observation) <= 0):\n",
    "            done = True\n",
    "            info = 'No cars!'\n",
    "        \n",
    "        if(not done):\n",
    "            cars_requested_1 = np.random.poisson(REQUEST_RATE[0])\n",
    "            cars_requested_2 = np.random.poisson(REQUEST_RATE[1])\n",
    "            observation[0] = observation[0] - cars_requested_1\n",
    "            observation[1] = observation[1] - cars_requested_2\n",
    "\n",
    "        if(np.min(observation) <= 0 and not done):\n",
    "            done = True\n",
    "            info = 'Not enought cars to fulfill requests!'\n",
    "\n",
    "        if (not done):\n",
    "            reward = (cars_requested_1 + cars_requested_2) * RENTAL_INCOME - (abs(action) * TRANSFER_COST)\n",
    "        else:\n",
    "            reward = -(abs(action) * 2)\n",
    "            observation[0] = observation[0] - action\n",
    "            observation[1] = observation[1] + action\n",
    "        \n",
    "        if(not done):\n",
    "            if(observation[0] - action < 0 and observation[1] + action < 0):\n",
    "                done = True\n",
    "                info = 'Not enough cars to move!'\n",
    "            else:\n",
    "                observation[0] = observation[0] - action\n",
    "                observation[1] = observation[1] + action\n",
    "\n",
    "        cars_returned_1 = np.random.poisson(RETURN_RATE[0])\n",
    "        cars_returned_2 = np.random.poisson(RETURN_RATE[1])\n",
    "        observation[0] = observation[0] + cars_returned_1\n",
    "        observation[1] = observation[1] + cars_returned_2\n",
    "        np.clip(observation, None, MAX_CAPACITY)\n",
    "\n",
    "        return observation, reward, False, info\n",
    "\n",
    "    def reset(self, param=10):\n",
    "        global observation\n",
    "        observation = np.array([param, param])\n",
    "        return observation\n",
    "\n",
    "    @property\n",
    "    def action_space(self):\n",
    "        \"\"\"\n",
    "        Returns a Space object\n",
    "        \"\"\"\n",
    "        raise NotImplementedError\n",
    "\n",
    "    @property\n",
    "    def observation_space(self):\n",
    "        \"\"\"\n",
    "        Returns a Space object\n",
    "        \"\"\"\n",
    "        raise NotImplementedError"
   ]
  },
  {
   "cell_type": "code",
   "execution_count": 3,
   "metadata": {
    "collapsed": false
   },
   "outputs": [],
   "source": [
    "class JacksCarRentalEnvironmentModel(JacksCarRentalEnvironment):\n",
    "    \n",
    "    def get_transition_probabilities_and_expected_reward(self, state, action):\n",
    "        \"\"\"\n",
    "            Compute the $p(s', r\\mid s,a)$\n",
    "            Parameters\n",
    "            ----------\n",
    "            old_state: tuple of two ints\n",
    "                the state (cars_at_A, cars_at_B)\n",
    "            action: int\n",
    "                nigthly movements of the cars as a int between -5 to 5, e.g.: \n",
    "                action +3: move three cars from A to B. \n",
    "                action -2: move two cars from B to A.\n",
    "                \n",
    "            Returns\n",
    "            -------\n",
    "            numpy array (2d - float): mapping from (new) states to probabilities\n",
    "                index first dimension: cars at A\n",
    "                index second dimension: cars at B\n",
    "                value: probability  \n",
    "            float:  expected reward for the state-action pair\n",
    "        \"\"\"\n",
    "        #assert type(action) == int\n",
    "        assert np.abs(action) <=5\n",
    "        # first we move the cars in the night\n",
    "        num_states_for_a_location = type(self).MAX_CAPACITY + 1\n",
    "            \n",
    "        state = self._nightly_moves(state, action)\n",
    "    \n",
    "        expected_reward = - type(self).TRANSFER_COST * np.abs(action)\n",
    "        expected_reward += self._expected_reward_rent(state)\n",
    "        \n",
    "        transition_probabilities = self._rent_transition_probabilities(state)\n",
    "        transition_probabilities = self._returns_transition_probabilities(transition_probabilities)\n",
    "        return transition_probabilities, expected_reward  \n",
    "        \n",
    "        \n",
    "    def _nightly_moves(self, state, action):\n",
    "        \n",
    "        cars_at_A = state[0]\n",
    "        cars_at_B = state[1]\n",
    "        if action > 0:\n",
    "            cars_moved = min(action, cars_at_A)\n",
    "        else:\n",
    "            cars_moved = max(action, -cars_at_B)\n",
    "        \n",
    "        cars_at_A = min(cars_at_A - cars_moved, type(self).MAX_CAPACITY)\n",
    "        cars_at_B = min(cars_at_B + cars_moved, type(self).MAX_CAPACITY)\n",
    "        return [cars_at_A, cars_at_B]\n",
    "        \n",
    "    def _expected_reward_rent(self, state):\n",
    "        expected_reward_rent = 0.\n",
    "        m = type(self).MAX_CAPACITY+1\n",
    "        request_mu = type(self).REQUEST_RATE\n",
    "        for i in (0,1):\n",
    "            cars_at_loc = state[i]\n",
    "            rv = scipy.stats.poisson(request_mu[i])\n",
    "            rent_prob = (rv.pmf(range(m)))\n",
    "            logger.debug(rent_prob)\n",
    "            rent_prob[cars_at_loc] = rent_prob[cars_at_loc:].sum()\n",
    "            rent_prob[cars_at_loc+1:] = 0. \n",
    "            logger.debug(rent_prob)\n",
    "            expected_reward_rent += np.dot(np.arange(len(rent_prob)), rent_prob) * type(self).RENTAL_INCOME\n",
    "        return expected_reward_rent\n",
    "        \n",
    "    def _rent_transition_probabilities(self, state):\n",
    "        \n",
    "        num_states_for_a_location = type(self).MAX_CAPACITY + 1\n",
    "        m = 15\n",
    "        n = num_states_for_a_location + 2*m\n",
    "        p_  = [np.zeros(n), np.zeros(n)]\n",
    "        request_mu = type(self).REQUEST_RATE\n",
    "        \n",
    "        for i in (0,1):\n",
    "            rv = scipy.stats.poisson(request_mu[i])\n",
    "            cars_at_loc = state[i]\n",
    "            x = cars_at_loc + m + 1     \n",
    "            rent_prob = (rv.pmf(range(x)))\n",
    "            assert state[i]-x+m+1 == 0\n",
    "            p_[i][0:cars_at_loc+m+1] = rent_prob[::-1]\n",
    "            p_[i][m] = p_[i][:m+1].sum()\n",
    "            p_[i] = p_[i][m:-m]\n",
    "        return p_\n",
    "    \n",
    "    def _returns_transition_probabilities(self, state_probalility):\n",
    "        \n",
    "        num_states_for_a_location = type(self).MAX_CAPACITY + 1\n",
    "        m=11\n",
    "        n = num_states_for_a_location + 2*m\n",
    "        returns_mu = type(self).RETURN_RATE\n",
    "        p_  = [np.zeros(num_states_for_a_location), np.zeros(num_states_for_a_location)]\n",
    "        for i in (0,1):\n",
    "            rv = scipy.stats.poisson(returns_mu[i])\n",
    "            logger.debug(len(state_probalility[i]))\n",
    "            for cars_at_loc in range(len(state_probalility[i])):\n",
    "                p = np.zeros(n)\n",
    "                logger.debug(p.shape)\n",
    "                x = num_states_for_a_location - cars_at_loc + m - 1     \n",
    "                return_prob = (rv.pmf(range(x)))\n",
    "                logger.debug (p[cars_at_loc+m:-1].shape)\n",
    "                p[cars_at_loc+m:-1] = return_prob\n",
    "                logger.debug(return_prob)\n",
    "                p[num_states_for_a_location+m-1] = p[num_states_for_a_location+m-1:].sum()\n",
    "                p = p[m:-m]\n",
    "                logger.debug(p)\n",
    "                logger.debug(p.sum())\n",
    "                p_[i] += p * state_probalility[i][cars_at_loc]\n",
    "        return p_\n",
    "    \n",
    "    "
   ]
  },
  {
   "cell_type": "code",
   "execution_count": 4,
   "metadata": {
    "collapsed": false
   },
   "outputs": [],
   "source": [
    "def init_values_and_policy():\n",
    "    values = np.ones((21, 21))\n",
    "    policy = np.zeros((21, 21, 11))\n",
    "    policy.fill(1/11)\n",
    "    return values, policy\n",
    "\n",
    "def update_values(state, values, policy, gamma=0.9):\n",
    "    actions = np.arange(-5,5,1)\n",
    "    # Summe (a | s)\n",
    "    v_s = 0\n",
    "    policy_for_state = policy[state[0],state[1]]\n",
    "    for i in range(len(actions)):\n",
    "        action = actions[i]\n",
    "        policy_a_s = policy_for_state[i]\n",
    "        probs, reward_a = model.get_transition_probabilities_and_expected_reward(state, action)\n",
    "        # Summe (S' | a)\n",
    "        # s_prime = S' (!)\n",
    "        q_a_s_prime = 0\n",
    "        for cars_a in range(len(probs[0])):\n",
    "            for cars_b in range(len(probs[1])):\n",
    "                prime_prob = probs[0][cars_a] * probs[1][cars_b]\n",
    "                q_a_s_prime += prime_prob *values[cars_a, cars_b]\n",
    "        v_s += policy_a_s * ( reward_a + gamma * q_a_s_prime )\n",
    "    return v_s\n",
    "    \n",
    "def iterative_policy_evaluation_v(values, policy):\n",
    "    new_values = np.zeros((21,21))\n",
    "    for state_a in range(len(values)):\n",
    "        for state_b in range(len(values[state_a])):\n",
    "            state = (state_a, state_b)\n",
    "            new_values[state_a,state_b] = update_values(state, values, policy)\n",
    "    return new_values\n",
    "    \n",
    "def policy_evaluation(values, policy, max_updates=50, threshold=1.0):\n",
    "    new_values = iterative_policy_evaluation_v(values, policy)\n",
    "    run = 1\n",
    "    while True:\n",
    "        values = new_values\n",
    "        new_values = iterative_policy_evaluation_v(values, policy)\n",
    "        delta = np.max(np.abs(values - new_values))\n",
    "        print('Update ' + str(run) + ' of max ' + str(max_updates) + ', delta = ' + str(delta))\n",
    "        run += 1\n",
    "        if delta < threshold:\n",
    "            print('Updated value under threshold of ' + str(threshold))\n",
    "            break\n",
    "        if run >= max_updates:\n",
    "            break\n",
    "    return values\n",
    "    \n",
    "def policy_improvement():\n",
    "    raise NotImplementedError"
   ]
  },
  {
   "cell_type": "code",
   "execution_count": 5,
   "metadata": {
    "collapsed": false
   },
   "outputs": [
    {
     "name": "stdout",
     "output_type": "stream",
     "text": [
      "Update 1 of max 50, delta = 48.1432500783\n",
      "Update 2 of max 50, delta = 38.6316120135\n",
      "Update 3 of max 50, delta = 30.0980846745\n",
      "Update 4 of max 50, delta = 23.1533863261\n",
      "Update 5 of max 50, delta = 17.8459800903\n",
      "Update 6 of max 50, delta = 13.8745679741\n",
      "Update 7 of max 50, delta = 10.8969097466\n",
      "Update 8 of max 50, delta = 8.63754863092\n",
      "Update 9 of max 50, delta = 6.8982823777\n",
      "Update 10 of max 50, delta = 5.54131487931\n",
      "Update 11 of max 50, delta = 4.47077131092\n",
      "Update 12 of max 50, delta = 3.6188001276\n",
      "Update 13 of max 50, delta = 2.9362665744\n",
      "Update 14 of max 50, delta = 2.38675150919\n",
      "Update 15 of max 50, delta = 1.94269196862\n",
      "Update 16 of max 50, delta = 1.58286107462\n",
      "Update 17 of max 50, delta = 1.29068211983\n",
      "Update 18 of max 50, delta = 1.05306869648\n",
      "Update 19 of max 50, delta = 0.859603768639\n",
      "Update 20 of max 50, delta = 0.701942982334\n"
     ]
    },
    {
     "ename": "KeyboardInterrupt",
     "evalue": "",
     "output_type": "error",
     "traceback": [
      "\u001b[0;31m---------------------------------------------------------------------------\u001b[0m",
      "\u001b[0;31mKeyboardInterrupt\u001b[0m                         Traceback (most recent call last)",
      "\u001b[0;32m<ipython-input-5-26c0e3669b8f>\u001b[0m in \u001b[0;36m<module>\u001b[0;34m()\u001b[0m\n\u001b[1;32m      1\u001b[0m \u001b[0mmodel\u001b[0m \u001b[0;34m=\u001b[0m \u001b[0mJacksCarRentalEnvironmentModel\u001b[0m\u001b[0;34m(\u001b[0m\u001b[0;34m)\u001b[0m\u001b[0;34m\u001b[0m\u001b[0m\n\u001b[1;32m      2\u001b[0m \u001b[0mV\u001b[0m\u001b[0;34m,\u001b[0m  \u001b[0mpolicy\u001b[0m \u001b[0;34m=\u001b[0m \u001b[0minit_values_and_policy\u001b[0m\u001b[0;34m(\u001b[0m\u001b[0;34m)\u001b[0m\u001b[0;34m\u001b[0m\u001b[0m\n\u001b[0;32m----> 3\u001b[0;31m \u001b[0mv_new\u001b[0m \u001b[0;34m=\u001b[0m \u001b[0mpolicy_evaluation\u001b[0m\u001b[0;34m(\u001b[0m\u001b[0mV\u001b[0m\u001b[0;34m,\u001b[0m \u001b[0mpolicy\u001b[0m\u001b[0;34m)\u001b[0m\u001b[0;34m\u001b[0m\u001b[0m\n\u001b[0m",
      "\u001b[0;32m<ipython-input-4-1c58e05c928d>\u001b[0m in \u001b[0;36mpolicy_evaluation\u001b[0;34m(values, policy, max_updates, threshold)\u001b[0m\n\u001b[1;32m     37\u001b[0m     \u001b[0;32mwhile\u001b[0m \u001b[0;32mTrue\u001b[0m\u001b[0;34m:\u001b[0m\u001b[0;34m\u001b[0m\u001b[0m\n\u001b[1;32m     38\u001b[0m         \u001b[0mvalues\u001b[0m \u001b[0;34m=\u001b[0m \u001b[0mnew_values\u001b[0m\u001b[0;34m\u001b[0m\u001b[0m\n\u001b[0;32m---> 39\u001b[0;31m         \u001b[0mnew_values\u001b[0m \u001b[0;34m=\u001b[0m \u001b[0miterative_policy_evaluation_v\u001b[0m\u001b[0;34m(\u001b[0m\u001b[0mvalues\u001b[0m\u001b[0;34m,\u001b[0m \u001b[0mpolicy\u001b[0m\u001b[0;34m)\u001b[0m\u001b[0;34m\u001b[0m\u001b[0m\n\u001b[0m\u001b[1;32m     40\u001b[0m         \u001b[0mdelta\u001b[0m \u001b[0;34m=\u001b[0m \u001b[0mnp\u001b[0m\u001b[0;34m.\u001b[0m\u001b[0mmax\u001b[0m\u001b[0;34m(\u001b[0m\u001b[0mnp\u001b[0m\u001b[0;34m.\u001b[0m\u001b[0mabs\u001b[0m\u001b[0;34m(\u001b[0m\u001b[0mvalues\u001b[0m \u001b[0;34m-\u001b[0m \u001b[0mnew_values\u001b[0m\u001b[0;34m)\u001b[0m\u001b[0;34m)\u001b[0m\u001b[0;34m\u001b[0m\u001b[0m\n\u001b[1;32m     41\u001b[0m         \u001b[0mprint\u001b[0m\u001b[0;34m(\u001b[0m\u001b[0;34m'Update '\u001b[0m \u001b[0;34m+\u001b[0m \u001b[0mstr\u001b[0m\u001b[0;34m(\u001b[0m\u001b[0mrun\u001b[0m\u001b[0;34m)\u001b[0m \u001b[0;34m+\u001b[0m \u001b[0;34m' of max '\u001b[0m \u001b[0;34m+\u001b[0m \u001b[0mstr\u001b[0m\u001b[0;34m(\u001b[0m\u001b[0mmax_updates\u001b[0m\u001b[0;34m)\u001b[0m \u001b[0;34m+\u001b[0m \u001b[0;34m', delta = '\u001b[0m \u001b[0;34m+\u001b[0m \u001b[0mstr\u001b[0m\u001b[0;34m(\u001b[0m\u001b[0mdelta\u001b[0m\u001b[0;34m)\u001b[0m\u001b[0;34m)\u001b[0m\u001b[0;34m\u001b[0m\u001b[0m\n",
      "\u001b[0;32m<ipython-input-4-1c58e05c928d>\u001b[0m in \u001b[0;36miterative_policy_evaluation_v\u001b[0;34m(values, policy)\u001b[0m\n\u001b[1;32m     29\u001b[0m         \u001b[0;32mfor\u001b[0m \u001b[0mstate_b\u001b[0m \u001b[0;32min\u001b[0m \u001b[0mrange\u001b[0m\u001b[0;34m(\u001b[0m\u001b[0mlen\u001b[0m\u001b[0;34m(\u001b[0m\u001b[0mvalues\u001b[0m\u001b[0;34m[\u001b[0m\u001b[0mstate_a\u001b[0m\u001b[0;34m]\u001b[0m\u001b[0;34m)\u001b[0m\u001b[0;34m)\u001b[0m\u001b[0;34m:\u001b[0m\u001b[0;34m\u001b[0m\u001b[0m\n\u001b[1;32m     30\u001b[0m             \u001b[0mstate\u001b[0m \u001b[0;34m=\u001b[0m \u001b[0;34m(\u001b[0m\u001b[0mstate_a\u001b[0m\u001b[0;34m,\u001b[0m \u001b[0mstate_b\u001b[0m\u001b[0;34m)\u001b[0m\u001b[0;34m\u001b[0m\u001b[0m\n\u001b[0;32m---> 31\u001b[0;31m             \u001b[0mnew_values\u001b[0m\u001b[0;34m[\u001b[0m\u001b[0mstate_a\u001b[0m\u001b[0;34m,\u001b[0m\u001b[0mstate_b\u001b[0m\u001b[0;34m]\u001b[0m \u001b[0;34m=\u001b[0m \u001b[0mupdate_values\u001b[0m\u001b[0;34m(\u001b[0m\u001b[0mstate\u001b[0m\u001b[0;34m,\u001b[0m \u001b[0mvalues\u001b[0m\u001b[0;34m,\u001b[0m \u001b[0mpolicy\u001b[0m\u001b[0;34m)\u001b[0m\u001b[0;34m\u001b[0m\u001b[0m\n\u001b[0m\u001b[1;32m     32\u001b[0m     \u001b[0;32mreturn\u001b[0m \u001b[0mnew_values\u001b[0m\u001b[0;34m\u001b[0m\u001b[0m\n\u001b[1;32m     33\u001b[0m \u001b[0;34m\u001b[0m\u001b[0m\n",
      "\u001b[0;32m<ipython-input-4-1c58e05c928d>\u001b[0m in \u001b[0;36mupdate_values\u001b[0;34m(state, values, policy, gamma)\u001b[0m\n\u001b[1;32m     13\u001b[0m         \u001b[0maction\u001b[0m \u001b[0;34m=\u001b[0m \u001b[0mactions\u001b[0m\u001b[0;34m[\u001b[0m\u001b[0mi\u001b[0m\u001b[0;34m]\u001b[0m\u001b[0;34m\u001b[0m\u001b[0m\n\u001b[1;32m     14\u001b[0m         \u001b[0mpolicy_a_s\u001b[0m \u001b[0;34m=\u001b[0m \u001b[0mpolicy_for_state\u001b[0m\u001b[0;34m[\u001b[0m\u001b[0mi\u001b[0m\u001b[0;34m]\u001b[0m\u001b[0;34m\u001b[0m\u001b[0m\n\u001b[0;32m---> 15\u001b[0;31m         \u001b[0mprobs\u001b[0m\u001b[0;34m,\u001b[0m \u001b[0mreward_a\u001b[0m \u001b[0;34m=\u001b[0m \u001b[0mmodel\u001b[0m\u001b[0;34m.\u001b[0m\u001b[0mget_transition_probabilities_and_expected_reward\u001b[0m\u001b[0;34m(\u001b[0m\u001b[0mstate\u001b[0m\u001b[0;34m,\u001b[0m \u001b[0maction\u001b[0m\u001b[0;34m)\u001b[0m\u001b[0;34m\u001b[0m\u001b[0m\n\u001b[0m\u001b[1;32m     16\u001b[0m         \u001b[0;31m# Summe (S' | a)\u001b[0m\u001b[0;34m\u001b[0m\u001b[0;34m\u001b[0m\u001b[0m\n\u001b[1;32m     17\u001b[0m         \u001b[0;31m# s_prime = S' (!)\u001b[0m\u001b[0;34m\u001b[0m\u001b[0;34m\u001b[0m\u001b[0m\n",
      "\u001b[0;32m<ipython-input-3-a37b00bebe8f>\u001b[0m in \u001b[0;36mget_transition_probabilities_and_expected_reward\u001b[0;34m(self, state, action)\u001b[0m\n\u001b[1;32m     32\u001b[0m \u001b[0;34m\u001b[0m\u001b[0m\n\u001b[1;32m     33\u001b[0m         \u001b[0mtransition_probabilities\u001b[0m \u001b[0;34m=\u001b[0m \u001b[0mself\u001b[0m\u001b[0;34m.\u001b[0m\u001b[0m_rent_transition_probabilities\u001b[0m\u001b[0;34m(\u001b[0m\u001b[0mstate\u001b[0m\u001b[0;34m)\u001b[0m\u001b[0;34m\u001b[0m\u001b[0m\n\u001b[0;32m---> 34\u001b[0;31m         \u001b[0mtransition_probabilities\u001b[0m \u001b[0;34m=\u001b[0m \u001b[0mself\u001b[0m\u001b[0;34m.\u001b[0m\u001b[0m_returns_transition_probabilities\u001b[0m\u001b[0;34m(\u001b[0m\u001b[0mtransition_probabilities\u001b[0m\u001b[0;34m)\u001b[0m\u001b[0;34m\u001b[0m\u001b[0m\n\u001b[0m\u001b[1;32m     35\u001b[0m         \u001b[0;32mreturn\u001b[0m \u001b[0mtransition_probabilities\u001b[0m\u001b[0;34m,\u001b[0m \u001b[0mexpected_reward\u001b[0m\u001b[0;34m\u001b[0m\u001b[0m\n\u001b[1;32m     36\u001b[0m \u001b[0;34m\u001b[0m\u001b[0m\n",
      "\u001b[0;32m<ipython-input-3-a37b00bebe8f>\u001b[0m in \u001b[0;36m_returns_transition_probabilities\u001b[0;34m(self, state_probalility)\u001b[0m\n\u001b[1;32m     97\u001b[0m                 \u001b[0mlogger\u001b[0m\u001b[0;34m.\u001b[0m\u001b[0mdebug\u001b[0m\u001b[0;34m(\u001b[0m\u001b[0mp\u001b[0m\u001b[0;34m.\u001b[0m\u001b[0mshape\u001b[0m\u001b[0;34m)\u001b[0m\u001b[0;34m\u001b[0m\u001b[0m\n\u001b[1;32m     98\u001b[0m                 \u001b[0mx\u001b[0m \u001b[0;34m=\u001b[0m \u001b[0mnum_states_for_a_location\u001b[0m \u001b[0;34m-\u001b[0m \u001b[0mcars_at_loc\u001b[0m \u001b[0;34m+\u001b[0m \u001b[0mm\u001b[0m \u001b[0;34m-\u001b[0m \u001b[0;36m1\u001b[0m\u001b[0;34m\u001b[0m\u001b[0m\n\u001b[0;32m---> 99\u001b[0;31m                 \u001b[0mreturn_prob\u001b[0m \u001b[0;34m=\u001b[0m \u001b[0;34m(\u001b[0m\u001b[0mrv\u001b[0m\u001b[0;34m.\u001b[0m\u001b[0mpmf\u001b[0m\u001b[0;34m(\u001b[0m\u001b[0mrange\u001b[0m\u001b[0;34m(\u001b[0m\u001b[0mx\u001b[0m\u001b[0;34m)\u001b[0m\u001b[0;34m)\u001b[0m\u001b[0;34m)\u001b[0m\u001b[0;34m\u001b[0m\u001b[0m\n\u001b[0m\u001b[1;32m    100\u001b[0m                 \u001b[0mlogger\u001b[0m\u001b[0;34m.\u001b[0m\u001b[0mdebug\u001b[0m \u001b[0;34m(\u001b[0m\u001b[0mp\u001b[0m\u001b[0;34m[\u001b[0m\u001b[0mcars_at_loc\u001b[0m\u001b[0;34m+\u001b[0m\u001b[0mm\u001b[0m\u001b[0;34m:\u001b[0m\u001b[0;34m-\u001b[0m\u001b[0;36m1\u001b[0m\u001b[0;34m]\u001b[0m\u001b[0;34m.\u001b[0m\u001b[0mshape\u001b[0m\u001b[0;34m)\u001b[0m\u001b[0;34m\u001b[0m\u001b[0m\n\u001b[1;32m    101\u001b[0m                 \u001b[0mp\u001b[0m\u001b[0;34m[\u001b[0m\u001b[0mcars_at_loc\u001b[0m\u001b[0;34m+\u001b[0m\u001b[0mm\u001b[0m\u001b[0;34m:\u001b[0m\u001b[0;34m-\u001b[0m\u001b[0;36m1\u001b[0m\u001b[0;34m]\u001b[0m \u001b[0;34m=\u001b[0m \u001b[0mreturn_prob\u001b[0m\u001b[0;34m\u001b[0m\u001b[0m\n",
      "\u001b[0;32m/usr/local/lib/python3.5/dist-packages/scipy/stats/_distn_infrastructure.py\u001b[0m in \u001b[0;36mpmf\u001b[0;34m(self, k)\u001b[0m\n\u001b[1;32m    500\u001b[0m \u001b[0;34m\u001b[0m\u001b[0m\n\u001b[1;32m    501\u001b[0m     \u001b[0;32mdef\u001b[0m \u001b[0mpmf\u001b[0m\u001b[0;34m(\u001b[0m\u001b[0mself\u001b[0m\u001b[0;34m,\u001b[0m \u001b[0mk\u001b[0m\u001b[0;34m)\u001b[0m\u001b[0;34m:\u001b[0m\u001b[0;34m\u001b[0m\u001b[0m\n\u001b[0;32m--> 502\u001b[0;31m         \u001b[0;32mreturn\u001b[0m \u001b[0mself\u001b[0m\u001b[0;34m.\u001b[0m\u001b[0mdist\u001b[0m\u001b[0;34m.\u001b[0m\u001b[0mpmf\u001b[0m\u001b[0;34m(\u001b[0m\u001b[0mk\u001b[0m\u001b[0;34m,\u001b[0m \u001b[0;34m*\u001b[0m\u001b[0mself\u001b[0m\u001b[0;34m.\u001b[0m\u001b[0margs\u001b[0m\u001b[0;34m,\u001b[0m \u001b[0;34m**\u001b[0m\u001b[0mself\u001b[0m\u001b[0;34m.\u001b[0m\u001b[0mkwds\u001b[0m\u001b[0;34m)\u001b[0m\u001b[0;34m\u001b[0m\u001b[0m\n\u001b[0m\u001b[1;32m    503\u001b[0m \u001b[0;34m\u001b[0m\u001b[0m\n\u001b[1;32m    504\u001b[0m     \u001b[0;32mdef\u001b[0m \u001b[0mlogpmf\u001b[0m\u001b[0;34m(\u001b[0m\u001b[0mself\u001b[0m\u001b[0;34m,\u001b[0m \u001b[0mk\u001b[0m\u001b[0;34m)\u001b[0m\u001b[0;34m:\u001b[0m\u001b[0;34m\u001b[0m\u001b[0m\n",
      "\u001b[0;32m/usr/local/lib/python3.5/dist-packages/scipy/stats/_distn_infrastructure.py\u001b[0m in \u001b[0;36mpmf\u001b[0;34m(self, k, *args, **kwds)\u001b[0m\n\u001b[1;32m   2841\u001b[0m         \u001b[0;32mif\u001b[0m \u001b[0mnp\u001b[0m\u001b[0;34m.\u001b[0m\u001b[0many\u001b[0m\u001b[0;34m(\u001b[0m\u001b[0mcond\u001b[0m\u001b[0;34m)\u001b[0m\u001b[0;34m:\u001b[0m\u001b[0;34m\u001b[0m\u001b[0m\n\u001b[1;32m   2842\u001b[0m             \u001b[0mgoodargs\u001b[0m \u001b[0;34m=\u001b[0m \u001b[0margsreduce\u001b[0m\u001b[0;34m(\u001b[0m\u001b[0mcond\u001b[0m\u001b[0;34m,\u001b[0m \u001b[0;34m*\u001b[0m\u001b[0;34m(\u001b[0m\u001b[0;34m(\u001b[0m\u001b[0mk\u001b[0m\u001b[0;34m,\u001b[0m\u001b[0;34m)\u001b[0m\u001b[0;34m+\u001b[0m\u001b[0margs\u001b[0m\u001b[0;34m)\u001b[0m\u001b[0;34m)\u001b[0m\u001b[0;34m\u001b[0m\u001b[0m\n\u001b[0;32m-> 2843\u001b[0;31m             \u001b[0mplace\u001b[0m\u001b[0;34m(\u001b[0m\u001b[0moutput\u001b[0m\u001b[0;34m,\u001b[0m \u001b[0mcond\u001b[0m\u001b[0;34m,\u001b[0m \u001b[0mnp\u001b[0m\u001b[0;34m.\u001b[0m\u001b[0mclip\u001b[0m\u001b[0;34m(\u001b[0m\u001b[0mself\u001b[0m\u001b[0;34m.\u001b[0m\u001b[0m_pmf\u001b[0m\u001b[0;34m(\u001b[0m\u001b[0;34m*\u001b[0m\u001b[0mgoodargs\u001b[0m\u001b[0;34m)\u001b[0m\u001b[0;34m,\u001b[0m \u001b[0;36m0\u001b[0m\u001b[0;34m,\u001b[0m \u001b[0;36m1\u001b[0m\u001b[0;34m)\u001b[0m\u001b[0;34m)\u001b[0m\u001b[0;34m\u001b[0m\u001b[0m\n\u001b[0m\u001b[1;32m   2844\u001b[0m         \u001b[0;32mif\u001b[0m \u001b[0moutput\u001b[0m\u001b[0;34m.\u001b[0m\u001b[0mndim\u001b[0m \u001b[0;34m==\u001b[0m \u001b[0;36m0\u001b[0m\u001b[0;34m:\u001b[0m\u001b[0;34m\u001b[0m\u001b[0m\n\u001b[1;32m   2845\u001b[0m             \u001b[0;32mreturn\u001b[0m \u001b[0moutput\u001b[0m\u001b[0;34m[\u001b[0m\u001b[0;34m(\u001b[0m\u001b[0;34m)\u001b[0m\u001b[0;34m]\u001b[0m\u001b[0;34m\u001b[0m\u001b[0m\n",
      "\u001b[0;32m/usr/local/lib/python3.5/dist-packages/scipy/stats/_discrete_distns.py\u001b[0m in \u001b[0;36m_pmf\u001b[0;34m(self, k, mu)\u001b[0m\n\u001b[1;32m    470\u001b[0m \u001b[0;34m\u001b[0m\u001b[0m\n\u001b[1;32m    471\u001b[0m     \u001b[0;32mdef\u001b[0m \u001b[0m_pmf\u001b[0m\u001b[0;34m(\u001b[0m\u001b[0mself\u001b[0m\u001b[0;34m,\u001b[0m \u001b[0mk\u001b[0m\u001b[0;34m,\u001b[0m \u001b[0mmu\u001b[0m\u001b[0;34m)\u001b[0m\u001b[0;34m:\u001b[0m\u001b[0;34m\u001b[0m\u001b[0m\n\u001b[0;32m--> 472\u001b[0;31m         \u001b[0;32mreturn\u001b[0m \u001b[0mexp\u001b[0m\u001b[0;34m(\u001b[0m\u001b[0mself\u001b[0m\u001b[0;34m.\u001b[0m\u001b[0m_logpmf\u001b[0m\u001b[0;34m(\u001b[0m\u001b[0mk\u001b[0m\u001b[0;34m,\u001b[0m \u001b[0mmu\u001b[0m\u001b[0;34m)\u001b[0m\u001b[0;34m)\u001b[0m\u001b[0;34m\u001b[0m\u001b[0m\n\u001b[0m\u001b[1;32m    473\u001b[0m \u001b[0;34m\u001b[0m\u001b[0m\n\u001b[1;32m    474\u001b[0m     \u001b[0;32mdef\u001b[0m \u001b[0m_cdf\u001b[0m\u001b[0;34m(\u001b[0m\u001b[0mself\u001b[0m\u001b[0;34m,\u001b[0m \u001b[0mx\u001b[0m\u001b[0;34m,\u001b[0m \u001b[0mmu\u001b[0m\u001b[0;34m)\u001b[0m\u001b[0;34m:\u001b[0m\u001b[0;34m\u001b[0m\u001b[0m\n",
      "\u001b[0;32m/usr/local/lib/python3.5/dist-packages/scipy/stats/_discrete_distns.py\u001b[0m in \u001b[0;36m_logpmf\u001b[0;34m(self, k, mu)\u001b[0m\n\u001b[1;32m    466\u001b[0m \u001b[0;34m\u001b[0m\u001b[0m\n\u001b[1;32m    467\u001b[0m     \u001b[0;32mdef\u001b[0m \u001b[0m_logpmf\u001b[0m\u001b[0;34m(\u001b[0m\u001b[0mself\u001b[0m\u001b[0;34m,\u001b[0m \u001b[0mk\u001b[0m\u001b[0;34m,\u001b[0m \u001b[0mmu\u001b[0m\u001b[0;34m)\u001b[0m\u001b[0;34m:\u001b[0m\u001b[0;34m\u001b[0m\u001b[0m\n\u001b[0;32m--> 468\u001b[0;31m         \u001b[0mPk\u001b[0m \u001b[0;34m=\u001b[0m \u001b[0mspecial\u001b[0m\u001b[0;34m.\u001b[0m\u001b[0mxlogy\u001b[0m\u001b[0;34m(\u001b[0m\u001b[0mk\u001b[0m\u001b[0;34m,\u001b[0m \u001b[0mmu\u001b[0m\u001b[0;34m)\u001b[0m \u001b[0;34m-\u001b[0m \u001b[0mgamln\u001b[0m\u001b[0;34m(\u001b[0m\u001b[0mk\u001b[0m \u001b[0;34m+\u001b[0m \u001b[0;36m1\u001b[0m\u001b[0;34m)\u001b[0m \u001b[0;34m-\u001b[0m \u001b[0mmu\u001b[0m\u001b[0;34m\u001b[0m\u001b[0m\n\u001b[0m\u001b[1;32m    469\u001b[0m         \u001b[0;32mreturn\u001b[0m \u001b[0mPk\u001b[0m\u001b[0;34m\u001b[0m\u001b[0m\n\u001b[1;32m    470\u001b[0m \u001b[0;34m\u001b[0m\u001b[0m\n",
      "\u001b[0;31mKeyboardInterrupt\u001b[0m: "
     ]
    }
   ],
   "source": [
    "model = JacksCarRentalEnvironmentModel()\n",
    "V,  policy = init_values_and_policy()\n",
    "v_new = policy_evaluation(V, policy)"
   ]
  },
  {
   "cell_type": "code",
   "execution_count": null,
   "metadata": {
    "collapsed": false
   },
   "outputs": [],
   "source": [
    "from mpl_toolkits.mplot3d import Axes3D\n",
    "from matplotlib import cm\n",
    "import matplotlib.pyplot as plt\n",
    "%matplotlib inline\n",
    "\n",
    "def plot3d_over_states(f, zlabel=\"\", ):\n",
    "    MAX_CAPACITY = 20\n",
    "    A = np.arange(0, MAX_CAPACITY+1)\n",
    "    B = np.arange(0, MAX_CAPACITY+1)\n",
    "    # B, A !!!\n",
    "    B, A = np.meshgrid(B, A)\n",
    "    V = f.reshape(MAX_CAPACITY+1,-1)\n",
    "    fig = plt.figure()\n",
    "    ax = fig.add_subplot(111, projection='3d')\n",
    "    #ax = fig.gca(projection='3d')\n",
    "    #surf = ax.plot_surface(A, B, V, rstride=1, cstride=1, cmap=cm.coolwarm,\n",
    "    #                   linewidth=0, antialiased=False)\n",
    "    #fig.colorbar(surf, shrink=0.5, aspect=5)\n",
    "    ax.scatter(A, B, V, c='b', marker='.')\n",
    "    ax.set_xlabel(\"cars at A\")\n",
    "    ax.set_ylabel(\"cars at B\")\n",
    "    ax.set_zlabel(zlabel)\n",
    " \n",
    "    #ax.view_init(elev=10., azim=10)\n",
    "    \n",
    "    plt.show()"
   ]
  },
  {
   "cell_type": "code",
   "execution_count": null,
   "metadata": {
    "collapsed": true
   },
   "outputs": [],
   "source": [
    "def plot_policy(policy):\n",
    "    MAX_CAPACITY = 20\n",
    "    A = np.arange(0, MAX_CAPACITY+1)\n",
    "    B = np.arange(0, MAX_CAPACITY+1)\n",
    "    A, B = np.meshgrid(A, B)\n",
    "    Po = policy.reshape(MAX_CAPACITY+1,-1)\n",
    "    levels = range(-5,6,1)\n",
    "    plt.figure(figsize=(7,6))\n",
    "    CS = plt.contourf(A, B, Po, levels)\n",
    "    cbar = plt.colorbar(CS)\n",
    "    cbar.ax.set_ylabel('actions')\n",
    "    #plt.clabel(CS, inline=1, fontsize=10)\n",
    "    plt.title('Policy')\n",
    "    plt.xlabel(\"cars at B\")\n",
    "    plt.ylabel(\"cars at A\")"
   ]
  },
  {
   "cell_type": "code",
   "execution_count": null,
   "metadata": {
    "collapsed": false
   },
   "outputs": [],
   "source": [
    "plot3d_over_states(v_new, 'v')"
   ]
  },
  {
   "cell_type": "code",
   "execution_count": null,
   "metadata": {
    "collapsed": false
   },
   "outputs": [],
   "source": [
    "plot_policy(v_new)"
   ]
  },
  {
   "cell_type": "code",
   "execution_count": null,
   "metadata": {
    "collapsed": false
   },
   "outputs": [],
   "source": [
    "v_new_2 = policy_evaluation(v_new, policy)"
   ]
  },
  {
   "cell_type": "code",
   "execution_count": null,
   "metadata": {
    "collapsed": false
   },
   "outputs": [],
   "source": [
    "plot3d_over_states(v_new_2)"
   ]
  },
  {
   "cell_type": "code",
   "execution_count": null,
   "metadata": {
    "collapsed": false
   },
   "outputs": [],
   "source": [
    "print(v_new_2.reshape(21,-1))"
   ]
  },
  {
   "cell_type": "code",
   "execution_count": null,
   "metadata": {
    "collapsed": true
   },
   "outputs": [],
   "source": []
  }
 ],
 "metadata": {
  "kernelspec": {
   "display_name": "Python 3",
   "language": "python",
   "name": "python3"
  },
  "language_info": {
   "codemirror_mode": {
    "name": "ipython",
    "version": 3
   },
   "file_extension": ".py",
   "mimetype": "text/x-python",
   "name": "python",
   "nbconvert_exporter": "python",
   "pygments_lexer": "ipython3",
   "version": "3.5.3"
  }
 },
 "nbformat": 4,
 "nbformat_minor": 2
}
