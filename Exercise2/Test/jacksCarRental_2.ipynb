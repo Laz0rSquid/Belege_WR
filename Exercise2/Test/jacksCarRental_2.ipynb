{
 "cells": [
  {
   "cell_type": "code",
   "execution_count": 1,
   "metadata": {
    "collapsed": true
   },
   "outputs": [],
   "source": [
    "import numpy as np\n",
    "import scipy.stats\n",
    "import matplotlib.pyplot as plt\n",
    "%matplotlib inline\n",
    "\n",
    "\n",
    "class JacksCarRentalEnvironment:\n",
    "    \n",
    "    TRANSFER_COST = 2\n",
    "    RENTAL_INCOME = 10\n",
    "    MAX_CAPACITY = 20\n",
    "    REQUEST_RATE = (3,4)\n",
    "    RETURN_RATE = (3,2)\n",
    "    \n",
    "    def __init__(self):\n",
    "        self._carparkA = CarPark(3,3,self.__class__.MAX_CAPACITY)\n",
    "        self._carparkB = CarPark(4,2,self.__class__.MAX_CAPACITY)\n",
    "        print([self._carparkA.getObservation(),self._carparkB.getObservation()])\n",
    "        \n",
    "    def reset(self,val=None):\n",
    "        self._carparkA = CarPark(3,3,self.__class__.MAX_CAPACITY,val)\n",
    "        self._carparkB = CarPark(4,2,self.__class__.MAX_CAPACITY,val)\n",
    "        print([self._carparkA.getObservation(),self._carparkB.getObservation()])\n",
    "        \n",
    "        \n",
    "    def step(self,val):\n",
    "        # val > 0 Autos wandern von A nach B\n",
    "        # val < 0 Autos wandern von B nach A\n",
    "        if val < 0:\n",
    "            a = self._carparkB\n",
    "            b = self._carparkA\n",
    "            val = -1*val\n",
    "        else:\n",
    "            a = self._carparkA\n",
    "            b = self._carparkB\n",
    "        # Zu aller erst werden die autos von jack bewegt    \n",
    "        # An einem Tag kommen zuerst Kunden und leihen Autos\n",
    "        # Dann werden Autos zurückgegeben\n",
    "        # Dann kann jack entscheiden welche autos bewegt werden\n",
    "        # Einfachster Fall val == 0\n",
    "        carsRented = 0\n",
    "        reward = 0.0\n",
    "        done = False\n",
    "        if val == 0:\n",
    "            carsRented += a.carsRenting()\n",
    "            carsRented += b.carsRenting()\n",
    "            reward = 10.0*carsRented\n",
    "            # Bevor Autos kommen auf available pruefen oder spaeter\n",
    "            if 0 in [self._carparkA.getObservation(),self._carparkB.getObservation()]:\n",
    "                done = True\n",
    "            a.carsArriving()\n",
    "            b.carsArriving()\n",
    "        else:\n",
    "            availableCars = a.removeCars(val)\n",
    "            reward = -2.0*val\n",
    "            b.addCars(availableCars)\n",
    "            carsRented += a.carsRenting()\n",
    "            carsRented += b.carsRenting()\n",
    "            reward = reward + 10.0*carsRented\n",
    "            if 0 in [self._carparkA.getObservation(),self._carparkB.getObservation()]:\n",
    "                done = True\n",
    "            a.carsArriving()\n",
    "            b.carsArriving()\n",
    "        observation = [self._carparkA.getObservation(),self._carparkB.getObservation()]\n",
    "        return (observation,reward,done,'')\n",
    "    \n",
    "    \n",
    "    \n",
    "class CarPark:\n",
    "    \n",
    "    def __init__(self, lamRequest, lamReturn, maxSize,val=None):\n",
    "        self._lamRequest = lamRequest\n",
    "        self._lamReturn = lamReturn\n",
    "        self._maxSize = maxSize\n",
    "        self._maxMove = 5\n",
    "        if val == None:\n",
    "            self._carsAvailable = np.random.randint(0,21,1)[0]\n",
    "        else:\n",
    "            self._carsAvailable = val\n",
    "        \n",
    "        \n",
    "        \n",
    "    def getObservation(self):\n",
    "        return self._carsAvailable\n",
    "    \n",
    "    def carsArriving(self):\n",
    "        r = np.random.poisson(self._lamReturn)\n",
    "        if self._carsAvailable + r > self._maxSize:\n",
    "            self._carsAvailable = self._maxSize\n",
    "        else:\n",
    "            self._carsAvailable += r\n",
    "    \n",
    "    def carsRenting(self):\n",
    "        carsRented = np.random.poisson(self._lamRequest)\n",
    "        if self._carsAvailable - carsRented < 0:\n",
    "            carsRented = self._carsAvailable\n",
    "            self._carsAvailable = 0\n",
    "        else:\n",
    "            self._carsAvailable -= carsRented\n",
    "        return carsRented\n",
    "           \n",
    "    def addCars(self,amount):\n",
    "        if amount > self._maxMove:\n",
    "            raise Exception('Zu viele Autos')\n",
    "        elif amount < 0:\n",
    "            raise Exception('Du wolltest autos hinzufuegen')\n",
    "        self._carsAvailable += amount\n",
    "        if self._carsAvailable > self._maxSize:\n",
    "            self._carsAvailable = self._maxSize\n",
    "            \n",
    "    def removeCars(self,amount):\n",
    "        if amount > self._maxMove:\n",
    "            raise Exception('Zu viele Autos')\n",
    "        elif amount < 0:\n",
    "            raise Exception('Du')\n",
    "        if self._carsAvailable - amount < 0:\n",
    "            amount = self._carsAvailable\n",
    "            self._carsAvailable = 0\n",
    "        else:\n",
    "            self._carsAvailable -= amount\n",
    "        return amount"
   ]
  },
  {
   "cell_type": "code",
   "execution_count": 2,
   "metadata": {
    "collapsed": false
   },
   "outputs": [],
   "source": [
    "class JacksCarRentalEnvironmentModel(JacksCarRentalEnvironment):\n",
    "    \n",
    "    def get_transition_probabilities_and_expected_reward(self, state, action):\n",
    "        \"\"\"\n",
    "            Compute the $p(s', r\\mid s,a)$\n",
    "            Parameters\n",
    "            ----------\n",
    "            old_state: tuple of two ints\n",
    "                the state (cars_at_A, cars_at_B)\n",
    "            action: int\n",
    "                nigthly movements of the cars as a int between -5 to 5, e.g.: \n",
    "                action +3: move three cars from A to B. \n",
    "                action -2: move two cars from B to A.\n",
    "                \n",
    "            Returns\n",
    "            -------\n",
    "            numpy array (2d - float): mapping from (new) states to probabilities\n",
    "                index first dimension: cars at A\n",
    "                index second dimension: cars at B\n",
    "                value: probability  \n",
    "            float:  expected reward for the state-action pair\n",
    "        \"\"\"\n",
    "        #assert type(action) == int\n",
    "        assert np.abs(action) <=5\n",
    "        # first we move the cars in the night\n",
    "        num_states_for_a_location = self.__class__.MAX_CAPACITY + 1\n",
    "            \n",
    "        state = self._nightly_moves(state, action)\n",
    "    \n",
    "        expected_reward = - self.__class__.TRANSFER_COST * np.abs(action)\n",
    "        expected_reward += self._expected_reward_rent(state)\n",
    "        \n",
    "        transition_probabilities = self._rent_transition_probabilities(state)\n",
    "        transition_probabilities = self._returns_transition_probabilities(transition_probabilities)\n",
    "        return transition_probabilities, expected_reward  \n",
    "        \n",
    "        \n",
    "    def _nightly_moves(self, state, action):\n",
    "        \n",
    "        cars_at_A = state[0]\n",
    "        cars_at_B = state[1]\n",
    "        if action > 0:\n",
    "            cars_moved = min(action, cars_at_A)\n",
    "        else:\n",
    "            cars_moved = max(action, -cars_at_B)\n",
    "        \n",
    "        cars_at_A = min(cars_at_A - cars_moved, self.__class__.MAX_CAPACITY)\n",
    "        cars_at_B = min(cars_at_B + cars_moved, self.__class__.MAX_CAPACITY)\n",
    "        return [cars_at_A, cars_at_B]\n",
    "        \n",
    "    def _expected_reward_rent(self, state):\n",
    "        expected_reward_rent = 0.\n",
    "        m = self.__class__.MAX_CAPACITY+1\n",
    "        request_mu = self.__class__.REQUEST_RATE\n",
    "        for i in (0,1):\n",
    "            cars_at_loc = state[i]\n",
    "            rv = scipy.stats.poisson(request_mu[i])\n",
    "            rent_prob = (rv.pmf(range(m)))\n",
    "            #logger.debug(rent_prob)\n",
    "            rent_prob[cars_at_loc] = rent_prob[cars_at_loc:].sum()\n",
    "            rent_prob[cars_at_loc+1:] = 0. \n",
    "            #logger.debug(rent_prob)\n",
    "            expected_reward_rent += np.dot(np.arange(len(rent_prob)), rent_prob) * self.__class__.RENTAL_INCOME\n",
    "        return expected_reward_rent\n",
    "        \n",
    "    def _rent_transition_probabilities(self, state):\n",
    "        \n",
    "        num_states_for_a_location = self.__class__.MAX_CAPACITY + 1\n",
    "        m = 15\n",
    "        n = num_states_for_a_location + 2*m\n",
    "        p_  = [np.zeros(n), np.zeros(n)]\n",
    "        request_mu = self.__class__.REQUEST_RATE\n",
    "        \n",
    "        for i in (0,1):\n",
    "            rv = scipy.stats.poisson(request_mu[i])\n",
    "            cars_at_loc = state[i]\n",
    "            x = cars_at_loc + m + 1     \n",
    "            rent_prob = (rv.pmf(range(x)))\n",
    "            assert state[i]-x+m+1 == 0\n",
    "            p_[i][0:cars_at_loc+m+1] = rent_prob[::-1]\n",
    "            p_[i][m] = p_[i][:m+1].sum()\n",
    "            p_[i] = p_[i][m:-m]\n",
    "        return p_\n",
    "    \n",
    "    def _returns_transition_probabilities(self, state_probalility):\n",
    "        \n",
    "        num_states_for_a_location = self.__class__.MAX_CAPACITY + 1\n",
    "        m=11\n",
    "        n = num_states_for_a_location + 2*m\n",
    "        returns_mu = self.__class__.RETURN_RATE\n",
    "        p_  = [np.zeros(num_states_for_a_location), np.zeros(num_states_for_a_location)]\n",
    "        for i in (0,1):\n",
    "            rv = scipy.stats.poisson(returns_mu[i])\n",
    "            #logger.debug(len(state_probalility[i]))\n",
    "            for cars_at_loc in range(len(state_probalility[i])):\n",
    "                p = np.zeros(n)\n",
    "                #logger.debug(p.shape)\n",
    "                x = num_states_for_a_location - cars_at_loc + m - 1     \n",
    "                return_prob = (rv.pmf(range(x)))\n",
    "                #logger.debug (p[cars_at_loc+m:-1].shape)\n",
    "                p[cars_at_loc+m:-1] = return_prob\n",
    "                #logger.debug(return_prob)\n",
    "                p[num_states_for_a_location+m-1] = p[num_states_for_a_location+m-1:].sum()\n",
    "                p = p[m:-m]\n",
    "                #logger.debug(p)\n",
    "                #logger.debug(p.sum())\n",
    "                p_[i] += p * state_probalility[i][cars_at_loc]\n",
    "        return p_\n",
    "    "
   ]
  },
  {
   "cell_type": "markdown",
   "metadata": {},
   "source": [
    "# Iterative Policy Evaluation\n",
    "\n",
    "d.h. Policy gegeben und gesucht ist v(s) \n",
    "\n",
    "v (s)= sum(π(a|s) Ra+γ P(s′))\n",
    "\n",
    "v(s) = Summe ueber alles moeglichen Aktions\n",
    "k+1 s ss k a∈A s′∈S\n",
    "vk+1 = Rπ + γPπvk"
   ]
  },
  {
   "cell_type": "code",
   "execution_count": 3,
   "metadata": {
    "collapsed": false
   },
   "outputs": [
    {
     "name": "stdout",
     "output_type": "stream",
     "text": [
      "[3, 11]\n"
     ]
    }
   ],
   "source": [
    "jack = JacksCarRentalEnvironmentModel()"
   ]
  },
  {
   "cell_type": "code",
   "execution_count": 4,
   "metadata": {
    "collapsed": false
   },
   "outputs": [],
   "source": [
    "p,r = jack.get_transition_probabilities_and_expected_reward((10,10),4)"
   ]
  },
  {
   "cell_type": "code",
   "execution_count": 5,
   "metadata": {
    "collapsed": false
   },
   "outputs": [
    {
     "data": {
      "text/plain": [
       "0.99999999999841072"
      ]
     },
     "execution_count": 5,
     "metadata": {},
     "output_type": "execute_result"
    }
   ],
   "source": [
    "sum(p[1])\n"
   ]
  },
  {
   "cell_type": "code",
   "execution_count": 6,
   "metadata": {
    "collapsed": false
   },
   "outputs": [
    {
     "data": {
      "text/plain": [
       "[array([  4.17802832e-03,   1.75535581e-02,   4.22253355e-02,\n",
       "          7.76405072e-02,   1.18952063e-01,   1.54141420e-01,\n",
       "          1.67806208e-01,   1.52576096e-01,   1.16179533e-01,\n",
       "          7.48067546e-02,   4.12597848e-02,   1.97579560e-02,\n",
       "          8.31968606e-03,   3.11595176e-03,   1.04850691e-03,\n",
       "          3.19796120e-04,   8.90905330e-05,   2.28223284e-05,\n",
       "          5.40770353e-06,   1.19135234e-06,   3.02813622e-07]),\n",
       " array([  1.03299277e-05,   4.73734715e-05,   1.60906340e-04,\n",
       "          5.01296730e-04,   1.45331762e-03,   3.88040298e-03,\n",
       "          9.45596609e-03,   2.08515568e-02,   4.12180332e-02,\n",
       "          7.22527829e-02,   1.10924985e-01,   1.47051374e-01,\n",
       "          1.65751023e-01,   1.56401198e-01,   1.21975811e-01,\n",
       "          7.82005992e-02,   4.14377557e-02,   1.83814218e-02,\n",
       "          6.93281151e-03,   2.25789937e-03,   8.53155607e-04])]"
      ]
     },
     "execution_count": 6,
     "metadata": {},
     "output_type": "execute_result"
    }
   ],
   "source": [
    "p"
   ]
  },
  {
   "cell_type": "code",
   "execution_count": 7,
   "metadata": {
    "collapsed": false
   },
   "outputs": [
    {
     "ename": "NameError",
     "evalue": "name 'actions' is not defined",
     "output_type": "error",
     "traceback": [
      "\u001b[0;31m---------------------------------------------------------------------------\u001b[0m",
      "\u001b[0;31mNameError\u001b[0m                                 Traceback (most recent call last)",
      "\u001b[0;32m<ipython-input-7-1ae6b0d26723>\u001b[0m in \u001b[0;36m<module>\u001b[0;34m()\u001b[0m\n\u001b[1;32m      1\u001b[0m \u001b[0mv_old\u001b[0m \u001b[0;34m=\u001b[0m \u001b[0mnp\u001b[0m\u001b[0;34m.\u001b[0m\u001b[0mzeros\u001b[0m\u001b[0;34m(\u001b[0m\u001b[0;34m(\u001b[0m\u001b[0;36m21\u001b[0m\u001b[0;34m,\u001b[0m\u001b[0;36m21\u001b[0m\u001b[0;34m)\u001b[0m\u001b[0;34m)\u001b[0m \u001b[0;31m# axis 0 = State A , axis 1 = State B  --> Alle States keinen Value\u001b[0m\u001b[0;34m\u001b[0m\u001b[0m\n\u001b[0;32m----> 2\u001b[0;31m \u001b[0mpoliciy\u001b[0m \u001b[0;34m=\u001b[0m \u001b[0mnp\u001b[0m\u001b[0;34m.\u001b[0m\u001b[0mzeros\u001b[0m\u001b[0;34m(\u001b[0m\u001b[0;34m(\u001b[0m\u001b[0;36m21\u001b[0m\u001b[0;34m,\u001b[0m\u001b[0;36m21\u001b[0m\u001b[0;34m,\u001b[0m\u001b[0mlen\u001b[0m\u001b[0;34m(\u001b[0m\u001b[0mactions\u001b[0m\u001b[0;34m)\u001b[0m\u001b[0;34m)\u001b[0m\u001b[0;34m)\u001b[0m\u001b[0;34m\u001b[0m\u001b[0m\n\u001b[0m\u001b[1;32m      3\u001b[0m \u001b[0mpoliciy\u001b[0m\u001b[0;34m.\u001b[0m\u001b[0mfill\u001b[0m\u001b[0;34m(\u001b[0m\u001b[0;36m1\u001b[0m\u001b[0;34m/\u001b[0m\u001b[0mlen\u001b[0m\u001b[0;34m(\u001b[0m\u001b[0mactions\u001b[0m\u001b[0;34m)\u001b[0m\u001b[0;34m)\u001b[0m  \u001b[0;31m# Policy gleichverteilt --> alle Aktions gleich wahrscheinlich\u001b[0m\u001b[0;34m\u001b[0m\u001b[0m\n",
      "\u001b[0;31mNameError\u001b[0m: name 'actions' is not defined"
     ]
    }
   ],
   "source": [
    "v_old = np.zeros((21,21)) # axis 0 = State A , axis 1 = State B  --> Alle States keinen Value\n",
    "policiy = np.zeros((21,21,len(actions)))\n",
    "policiy.fill(1/len(actions))  # Policy gleichverteilt --> alle Aktions gleich wahrscheinlich"
   ]
  },
  {
   "cell_type": "code",
   "execution_count": null,
   "metadata": {
    "collapsed": false
   },
   "outputs": [],
   "source": [
    "def updateV(s,v_Old,policiy):\n",
    "    # s ist (a,b)\n",
    "    # γ = 1 = y\n",
    "    # Summe ueber alle Aktions\n",
    "    y = 1\n",
    "    temp = 0 # sum\n",
    "    actions = np.arange(-5,6,1)\n",
    "    pol_forState = policiy[s[0],s[1]]\n",
    "    for i in range(len(actions)):\n",
    "        act = actions[i]\n",
    "        pol_a_s = pol_forState[i] \n",
    "        stateprobs, r_a = jack.get_transition_probabilities_and_expected_reward(s,act)\n",
    "        # Summe ueber alle S'\n",
    "        temp_a = 0\n",
    "        for carA in range(len(stateprobs[0])):\n",
    "            for carB in range(len(stateprobs[1])):\n",
    "                prob_of_State_prime = stateprobs[0][carA] * stateprobs[1][carB]\n",
    "                temp_a += prob_of_State_prime * v_Old[carA,carB]  \n",
    "        temp += pol_a_s * ( r_a + y * temp_a)\n",
    "    return temp"
   ]
  },
  {
   "cell_type": "code",
   "execution_count": null,
   "metadata": {
    "collapsed": false
   },
   "outputs": [],
   "source": [
    "def updateV_Synchron(v_Old,policiy):\n",
    "    v_new = np.zeros((21,21))\n",
    "    for stateA in range(len(v_Old)):\n",
    "        for stateB in range(len(v_Old[stateA])):\n",
    "            state = (stateA,stateB)\n",
    "            v_new[stateA,stateB] = updateV(state,v_Old,policiy)\n",
    "    return v_new\n",
    "        "
   ]
  },
  {
   "cell_type": "code",
   "execution_count": null,
   "metadata": {
    "collapsed": false
   },
   "outputs": [],
   "source": [
    "test = updateV_Synchron(v_old,policiy)"
   ]
  },
  {
   "cell_type": "code",
   "execution_count": null,
   "metadata": {
    "collapsed": false
   },
   "outputs": [],
   "source": [
    "test"
   ]
  },
  {
   "cell_type": "code",
   "execution_count": null,
   "metadata": {
    "collapsed": true
   },
   "outputs": [],
   "source": [
    "from mpl_toolkits.mplot3d import Axes3D\n",
    "from matplotlib import cm\n",
    "\n",
    "MAX_CAPACITY = 20\n",
    "\n",
    "def plot3d_over_states(f, zlabel=\"\", ):\n",
    "    A = np.arange(0, MAX_CAPACITY+1)\n",
    "    B = np.arange(0, MAX_CAPACITY+1)\n",
    "    # B, A !!!\n",
    "    B, A = np.meshgrid(B, A)\n",
    "    V = f.reshape(MAX_CAPACITY+1,-1)\n",
    "    fig = plt.figure()\n",
    "    ax = fig.add_subplot(111, projection='3d')\n",
    "    #ax = fig.gca(projection='3d')\n",
    "    #surf = ax.plot_surface(A, B, V, rstride=1, cstride=1, cmap=cm.coolwarm,\n",
    "    #                   linewidth=0, antialiased=False)\n",
    "    #fig.colorbar(surf, shrink=0.5, aspect=5)\n",
    "    ax.scatter(A, B, V, c='b', marker='.')\n",
    "    ax.set_xlabel(\"cars at A\")\n",
    "    ax.set_ylabel(\"cars at B\")\n",
    "    ax.set_zlabel(zlabel)\n",
    " \n",
    "    #ax.view_init(elev=10., azim=10)\n",
    "    \n",
    "    plt.show()"
   ]
  },
  {
   "cell_type": "code",
   "execution_count": null,
   "metadata": {
    "collapsed": false
   },
   "outputs": [],
   "source": [
    "plot3d_over_states(test) "
   ]
  },
  {
   "cell_type": "code",
   "execution_count": null,
   "metadata": {
    "collapsed": false,
    "scrolled": true
   },
   "outputs": [],
   "source": [
    "v_old = np.zeros((21,21)) \n",
    "policiy = np.zeros((21,21,len(actions)))\n",
    "policiy.fill(1/len(actions))\n",
    "\n",
    "v_new  = updateV_Synchron(v_old,policiy)\n",
    "plot3d_over_states(v_new ) \n",
    "\n",
    "v_ev10steps = list()\n",
    "for i in range(3):\n",
    "    for j in range(10):\n",
    "        v_new = updateV_Synchron(v_new,policiy)\n",
    "    v_ev10steps.append(v_new)"
   ]
  },
  {
   "cell_type": "code",
   "execution_count": null,
   "metadata": {
    "collapsed": false,
    "scrolled": false
   },
   "outputs": [],
   "source": [
    "plot3d_over_states(v_ev10steps[2])"
   ]
  },
  {
   "cell_type": "code",
   "execution_count": null,
   "metadata": {
    "collapsed": true
   },
   "outputs": [],
   "source": [
    "def oneStepLookAHead(s,v_new):\n",
    "    # s ist (a,b)\n",
    "    # γ = 1 = y\n",
    "    # Fuer alle Aktionen expected Reward berechnen\n",
    "    y = 1\n",
    "    temp = 0 # sum\n",
    "    actions = np.arange(-5,6,1)\n",
    "    q_a = np.zeros(len(actions))\n",
    "    for i in range(len(actions)):\n",
    "        act = actions[i] \n",
    "        stateprobs, r_a = jack.get_transition_probabilities_and_expected_reward(s,act)\n",
    "        # Summe ueber alle S'\n",
    "        temp_a = 0\n",
    "        for carA in range(len(stateprobs[0])):\n",
    "            for carB in range(len(stateprobs[1])):\n",
    "                prob_of_State_prime = stateprobs[0][carA] * stateprobs[1][carB]\n",
    "                temp_a += prob_of_State_prime * v_new[carA,carB]  \n",
    "        q_a[i] = r_a + y * temp_a\n",
    "        \n",
    "    best_actIndex = np.argmax(q_a)\n",
    "    best_act = actions[best_actIndex]\n",
    "    \n",
    "    return best_act, best_actIndex"
   ]
  },
  {
   "cell_type": "code",
   "execution_count": null,
   "metadata": {
    "collapsed": true
   },
   "outputs": [],
   "source": [
    "z = np.asarray([0,1,3,2])"
   ]
  },
  {
   "cell_type": "code",
   "execution_count": null,
   "metadata": {
    "collapsed": false
   },
   "outputs": [],
   "source": [
    "np.argmax(z)"
   ]
  },
  {
   "cell_type": "code",
   "execution_count": null,
   "metadata": {
    "collapsed": false
   },
   "outputs": [],
   "source": [
    "# Improve policy by acting greedy\n",
    "def beGreedy(v_new):\n",
    "    policiy_new = np.zeros((21,21,len(actions)))\n",
    "    carA, carB = 21, 21\n",
    "    for carA_I in range(carA):\n",
    "        for carB_I in range(carB):\n",
    "            best_act, best_actIndex = oneStepLookAHead((carA_I,carB_I),v_new)\n",
    "            policiy_new[carA_I,carB_I,best_actIndex] = 1\n",
    "    return policiy_new\n",
    "     "
   ]
  },
  {
   "cell_type": "code",
   "execution_count": null,
   "metadata": {
    "collapsed": false
   },
   "outputs": [],
   "source": [
    "v_new = v_ev10steps[2]"
   ]
  },
  {
   "cell_type": "code",
   "execution_count": null,
   "metadata": {
    "collapsed": true
   },
   "outputs": [],
   "source": [
    "policiy = beGreedy(v_new)\n",
    "v_new = updateV_Synchron(v_new,policiy)"
   ]
  },
  {
   "cell_type": "code",
   "execution_count": null,
   "metadata": {
    "collapsed": false
   },
   "outputs": [],
   "source": [
    "plot3d_over_states(v_new)"
   ]
  },
  {
   "cell_type": "code",
   "execution_count": null,
   "metadata": {
    "collapsed": false
   },
   "outputs": [],
   "source": [
    "policiy[10,10]"
   ]
  },
  {
   "cell_type": "code",
   "execution_count": null,
   "metadata": {
    "collapsed": true
   },
   "outputs": [],
   "source": [
    "policiy = beGreedy(v_new)"
   ]
  },
  {
   "cell_type": "code",
   "execution_count": null,
   "metadata": {
    "collapsed": false
   },
   "outputs": [],
   "source": [
    "policiy[10,10]"
   ]
  },
  {
   "cell_type": "code",
   "execution_count": null,
   "metadata": {
    "collapsed": true
   },
   "outputs": [],
   "source": [
    "def plot_policy(policy):\n",
    "    MAX_CAPACITY = 20\n",
    "    A = np.arange(0, MAX_CAPACITY+1)\n",
    "    B = np.arange(0, MAX_CAPACITY+1)\n",
    "    A, B = np.meshgrid(A, B)\n",
    "    Po = policy.reshape(MAX_CAPACITY+1,-1)\n",
    "    levels = range(-5,6,1)\n",
    "    plt.figure(figsize=(7,6))\n",
    "    CS = plt.contourf(A, B, Po, levels)\n",
    "    cbar = plt.colorbar(CS)\n",
    "    cbar.ax.set_ylabel('actions')\n",
    "    #plt.clabel(CS, inline=1, fontsize=10)\n",
    "    plt.title('Policy')\n",
    "    plt.xlabel(\"cars at B\")\n",
    "    plt.ylabel(\"cars at A\")"
   ]
  },
  {
   "cell_type": "code",
   "execution_count": null,
   "metadata": {
    "collapsed": false
   },
   "outputs": [],
   "source": [
    "policiy.reshape(MAX_CAPACITY+1,-1)"
   ]
  },
  {
   "cell_type": "code",
   "execution_count": null,
   "metadata": {
    "collapsed": false
   },
   "outputs": [],
   "source": [
    "p = np.argmax(policiy,axis=2)"
   ]
  },
  {
   "cell_type": "code",
   "execution_count": null,
   "metadata": {
    "collapsed": true
   },
   "outputs": [],
   "source": []
  },
  {
   "cell_type": "code",
   "execution_count": null,
   "metadata": {
    "collapsed": false
   },
   "outputs": [],
   "source": [
    "plot_policy(p-5)"
   ]
  },
  {
   "cell_type": "code",
   "execution_count": null,
   "metadata": {
    "collapsed": false
   },
   "outputs": [],
   "source": [
    "policiy[5,20]"
   ]
  },
  {
   "cell_type": "code",
   "execution_count": null,
   "metadata": {
    "collapsed": false
   },
   "outputs": [],
   "source": [
    "p - 5"
   ]
  },
  {
   "cell_type": "code",
   "execution_count": null,
   "metadata": {
    "collapsed": true
   },
   "outputs": [],
   "source": []
  }
 ],
 "metadata": {
  "kernelspec": {
   "display_name": "Python 3",
   "language": "python",
   "name": "python3"
  },
  "language_info": {
   "codemirror_mode": {
    "name": "ipython",
    "version": 3
   },
   "file_extension": ".py",
   "mimetype": "text/x-python",
   "name": "python",
   "nbconvert_exporter": "python",
   "pygments_lexer": "ipython3",
   "version": "3.5.3"
  }
 },
 "nbformat": 4,
 "nbformat_minor": 2
}
