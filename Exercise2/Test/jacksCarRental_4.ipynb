{
 "cells": [
  {
   "cell_type": "code",
   "execution_count": 1,
   "metadata": {
    "collapsed": true
   },
   "outputs": [],
   "source": [
    "import numpy as np\n",
    "import scipy.stats\n",
    "import matplotlib.pyplot as plt\n",
    "%matplotlib inline"
   ]
  },
  {
   "cell_type": "code",
   "execution_count": 2,
   "metadata": {
    "collapsed": true
   },
   "outputs": [],
   "source": [
    "class JacksCarRentalEnvironment:\n",
    "    \n",
    "    TRANSFER_COST = 2\n",
    "    RENTAL_INCOME = 10\n",
    "    MAX_CAPACITY = 20\n",
    "    REQUEST_RATE = (3,4)\n",
    "    RETURN_RATE = (3,2)\n",
    "    \n",
    "    def __init__(self):\n",
    "        self._carparkA = CarPark(3,3,type(self).MAX_CAPACITY)\n",
    "        self._carparkB = CarPark(4,2,type(self).MAX_CAPACITY)\n",
    "        print([self._carparkA.getObservation(),self._carparkB.getObservation()])\n",
    "        \n",
    "    def reset(self,val=None):\n",
    "        self._carparkA = CarPark(3,3,type(self).MAX_CAPACITY,val)\n",
    "        self._carparkB = CarPark(4,2,type(self).MAX_CAPACITY,val)\n",
    "        print([self._carparkA.getObservation(),self._carparkB.getObservation()])\n",
    "        \n",
    "        \n",
    "    def step(self,val):\n",
    "        # val > 0 Autos wandern von A nach B\n",
    "        # val < 0 Autos wandern von B nach A\n",
    "        if val < 0:\n",
    "            a = self._carparkB\n",
    "            b = self._carparkA\n",
    "            val = -1*val\n",
    "        else:\n",
    "            a = self._carparkA\n",
    "            b = self._carparkB\n",
    "        # Zu aller erst werden die autos von jack bewegt    \n",
    "        # An einem Tag kommen zuerst Kunden und leihen Autos\n",
    "        # Dann werden Autos zurückgegeben\n",
    "        # Dann kann jack entscheiden welche autos bewegt werden\n",
    "        # Einfachster Fall val == 0\n",
    "        carsRented = 0\n",
    "        reward = 0.0\n",
    "        done = False\n",
    "        if val == 0:\n",
    "            carsRented += a.carsRenting()\n",
    "            carsRented += b.carsRenting()\n",
    "            reward = 10.0*carsRented\n",
    "            # Bevor Autos kommen auf available pruefen oder spaeter\n",
    "            if 0 in [self._carparkA.getObservation(),self._carparkB.getObservation()]:\n",
    "                done = True\n",
    "            a.carsArriving()\n",
    "            b.carsArriving()\n",
    "        else:\n",
    "            availableCars = a.removeCars(val)\n",
    "            reward = -2.0*val\n",
    "            b.addCars(availableCars)\n",
    "            carsRented += a.carsRenting()\n",
    "            carsRented += b.carsRenting()\n",
    "            reward = reward + 10.0*carsRented\n",
    "            if 0 in [self._carparkA.getObservation(),self._carparkB.getObservation()]:\n",
    "                done = True\n",
    "            a.carsArriving()\n",
    "            b.carsArriving()\n",
    "        observation = [self._carparkA.getObservation(),self._carparkB.getObservation()]\n",
    "        return (observation,reward,done,'')\n",
    "    \n",
    "    \n",
    "    \n",
    "class CarPark:\n",
    "    \n",
    "    def __init__(self, lamRequest, lamReturn, maxSize,val=None):\n",
    "        self._lamRequest = lamRequest\n",
    "        self._lamReturn = lamReturn\n",
    "        self._maxSize = maxSize\n",
    "        self._maxMove = 5\n",
    "        if val == None:\n",
    "            self._carsAvailable = np.random.randint(0,21,1)[0]\n",
    "        else:\n",
    "            self._carsAvailable = val\n",
    "        \n",
    "        \n",
    "        \n",
    "    def getObservation(self):\n",
    "        return self._carsAvailable\n",
    "    \n",
    "    def carsArriving(self):\n",
    "        r = np.random.poisson(self._lamReturn)\n",
    "        if self._carsAvailable + r > self._maxSize:\n",
    "            self._carsAvailable = self._maxSize\n",
    "        else:\n",
    "            self._carsAvailable += r\n",
    "    \n",
    "    def carsRenting(self):\n",
    "        carsRented = np.random.poisson(self._lamRequest)\n",
    "        if self._carsAvailable - carsRented < 0:\n",
    "            carsRented = self._carsAvailable\n",
    "            self._carsAvailable = 0\n",
    "        else:\n",
    "            self._carsAvailable -= carsRented\n",
    "        return carsRented\n",
    "           \n",
    "    def addCars(self,amount):\n",
    "        if amount > self._maxMove:\n",
    "            raise Exception('Zu viele Autos')\n",
    "        elif amount < 0:\n",
    "            raise Exception('Du wolltest autos hinzufuegen')\n",
    "        self._carsAvailable += amount\n",
    "        if self._carsAvailable > self._maxSize:\n",
    "            self._carsAvailable = self._maxSize\n",
    "            \n",
    "    def removeCars(self,amount):\n",
    "        if amount > self._maxMove:\n",
    "            raise Exception('Zu viele Autos')\n",
    "        elif amount < 0:\n",
    "            raise Exception('Du')\n",
    "        if self._carsAvailable - amount < 0:\n",
    "            amount = self._carsAvailable\n",
    "            self._carsAvailable = 0\n",
    "        else:\n",
    "            self._carsAvailable -= amount\n",
    "        return amount\n",
    "    \n",
    "class JacksCarRentalEnvironmentModel(JacksCarRentalEnvironment):\n",
    "    \n",
    "    def get_transition_probabilities_and_expected_reward(self, state, action):\n",
    "        \"\"\"\n",
    "            Compute the $p(s', r\\mid s,a)$\n",
    "            Parameters\n",
    "            ----------\n",
    "            old_state: tuple of two ints\n",
    "                the state (cars_at_A, cars_at_B)\n",
    "            action: int\n",
    "                nigthly movements of the cars as a int between -5 to 5, e.g.: \n",
    "                action +3: move three cars from A to B. \n",
    "                action -2: move two cars from B to A.\n",
    "                \n",
    "            Returns\n",
    "            -------\n",
    "            numpy array (2d - float): mapping from (new) states to probabilities\n",
    "                index first dimension: cars at A\n",
    "                index second dimension: cars at B\n",
    "                value: probability  \n",
    "            float:  expected reward for the state-action pair\n",
    "        \"\"\"\n",
    "        #assert type(action) == int\n",
    "        assert np.abs(action) <=5\n",
    "        # first we move the cars in the night\n",
    "        num_states_for_a_location = type(self).MAX_CAPACITY + 1\n",
    "            \n",
    "        state = self._nightly_moves(state, action)\n",
    "    \n",
    "        expected_reward = - type(self).TRANSFER_COST * np.abs(action)\n",
    "        expected_reward += self._expected_reward_rent(state)\n",
    "        \n",
    "        transition_probabilities = self._rent_transition_probabilities(state)\n",
    "        transition_probabilities = self._returns_transition_probabilities(transition_probabilities)\n",
    "        return transition_probabilities, expected_reward  \n",
    "        \n",
    "        \n",
    "    def _nightly_moves(self, state, action):\n",
    "        \n",
    "        cars_at_A = state[0]\n",
    "        cars_at_B = state[1]\n",
    "        if action > 0:\n",
    "            cars_moved = min(action, cars_at_A)\n",
    "        else:\n",
    "            cars_moved = max(action, -cars_at_B)\n",
    "        \n",
    "        cars_at_A = min(cars_at_A - cars_moved, type(self).MAX_CAPACITY)\n",
    "        cars_at_B = min(cars_at_B + cars_moved, type(self).MAX_CAPACITY)\n",
    "        return [cars_at_A, cars_at_B]\n",
    "        \n",
    "    def _expected_reward_rent(self, state):\n",
    "        expected_reward_rent = 0.\n",
    "        m = type(self).MAX_CAPACITY+1\n",
    "        request_mu = type(self).REQUEST_RATE\n",
    "        for i in (0,1):\n",
    "            cars_at_loc = state[i]\n",
    "            rv = scipy.stats.poisson(request_mu[i])\n",
    "            rent_prob = (rv.pmf(range(m)))\n",
    "            #logger.debug(rent_prob)\n",
    "            rent_prob[cars_at_loc] = rent_prob[cars_at_loc:].sum()\n",
    "            rent_prob[cars_at_loc+1:] = 0. \n",
    "            #logger.debug(rent_prob)\n",
    "            expected_reward_rent += np.dot(np.arange(len(rent_prob)), rent_prob) * type(self).RENTAL_INCOME\n",
    "        return expected_reward_rent\n",
    "        \n",
    "    def _rent_transition_probabilities(self, state):\n",
    "        \n",
    "        num_states_for_a_location = type(self).MAX_CAPACITY + 1\n",
    "        m = 15\n",
    "        n = num_states_for_a_location + 2*m\n",
    "        p_  = [np.zeros(n), np.zeros(n)]\n",
    "        request_mu = type(self).REQUEST_RATE\n",
    "        \n",
    "        for i in (0,1):\n",
    "            rv = scipy.stats.poisson(request_mu[i])\n",
    "            cars_at_loc = state[i]\n",
    "            x = cars_at_loc + m + 1     \n",
    "            rent_prob = (rv.pmf(range(x)))\n",
    "            assert state[i]-x+m+1 == 0\n",
    "            p_[i][0:cars_at_loc+m+1] = rent_prob[::-1]\n",
    "            p_[i][m] = p_[i][:m+1].sum()\n",
    "            p_[i] = p_[i][m:-m]\n",
    "        return p_\n",
    "    \n",
    "    def _returns_transition_probabilities(self, state_probalility):\n",
    "        \n",
    "        num_states_for_a_location = type(self).MAX_CAPACITY + 1\n",
    "        m=11\n",
    "        n = num_states_for_a_location + 2*m\n",
    "        returns_mu = type(self).RETURN_RATE\n",
    "        p_  = [np.zeros(num_states_for_a_location), np.zeros(num_states_for_a_location)]\n",
    "        for i in (0,1):\n",
    "            rv = scipy.stats.poisson(returns_mu[i])\n",
    "            #logger.debug(len(state_probalility[i]))\n",
    "            for cars_at_loc in range(len(state_probalility[i])):\n",
    "                p = np.zeros(n)\n",
    "                #logger.debug(p.shape)\n",
    "                x = num_states_for_a_location - cars_at_loc + m - 1     \n",
    "                return_prob = (rv.pmf(range(x)))\n",
    "                #logger.debug (p[cars_at_loc+m:-1].shape)\n",
    "                p[cars_at_loc+m:-1] = return_prob\n",
    "                #logger.debug(return_prob)\n",
    "                p[num_states_for_a_location+m-1] = p[num_states_for_a_location+m-1:].sum()\n",
    "                p = p[m:-m]\n",
    "                #logger.debug(p)\n",
    "                #logger.debug(p.sum())\n",
    "                p_[i] += p * state_probalility[i][cars_at_loc]\n",
    "        return p_\n",
    "    "
   ]
  },
  {
   "cell_type": "code",
   "execution_count": 3,
   "metadata": {
    "collapsed": false
   },
   "outputs": [],
   "source": [
    "# Die 21*21 States in einem 1d-array representieren\n",
    "statesPerCarPark = 21\n",
    "V = np.zeros(statesPerCarPark**2)\n",
    "# Funktion die fuer carsAt_A und carsAt_B als Param, den Index in V wieder gibt\n",
    "getValIndex = lambda carsAt_A,carsAt_B: carsAt_A*statesPerCarPark + carsAt_B #- 1"
   ]
  },
  {
   "cell_type": "code",
   "execution_count": 4,
   "metadata": {
    "collapsed": false
   },
   "outputs": [
    {
     "name": "stdout",
     "output_type": "stream",
     "text": [
      "[11, 12]\n"
     ]
    }
   ],
   "source": [
    "jack = JacksCarRentalEnvironmentModel()"
   ]
  },
  {
   "cell_type": "code",
   "execution_count": 5,
   "metadata": {
    "collapsed": false
   },
   "outputs": [],
   "source": [
    "# Prob S Prime fuer gegeben S & A als Vektor\n",
    "def getSPrimeProbs(stateIndex,action):\n",
    "    statesPerCarPark = 21\n",
    "    carPark_A,carPark_B = divmod(stateIndex,statesPerCarPark)\n",
    "    temp, reward = jack.get_transition_probabilities_and_expected_reward((carPark_A,carPark_B),action)\n",
    "    prob_A,prob_B = temp\n",
    "    p_SA = np.outer(prob_A,prob_B).flatten()\n",
    "    return p_SA,reward"
   ]
  },
  {
   "cell_type": "code",
   "execution_count": 6,
   "metadata": {
    "collapsed": false
   },
   "outputs": [],
   "source": [
    "P_SASp = np.zeros((statesPerCarPark**2,11,statesPerCarPark**2))\n",
    "R_SA = np.zeros((statesPerCarPark**2,11))\n",
    "for s in range(21*21):\n",
    "    for a in range(11):\n",
    "        action = a - 5\n",
    "        P_SASp[s,a], R_SA[s,a] = getSPrimeProbs(s,action)"
   ]
  },
  {
   "cell_type": "code",
   "execution_count": 7,
   "metadata": {
    "collapsed": true
   },
   "outputs": [],
   "source": [
    "import datetime"
   ]
  },
  {
   "cell_type": "code",
   "execution_count": 8,
   "metadata": {
    "collapsed": false
   },
   "outputs": [],
   "source": [
    "def valueIteration(statesPerCarPark,n_action,getSPrimeProbs, gamma=0.9):\n",
    "    P_SASp = np.zeros((statesPerCarPark**2,n_action,statesPerCarPark**2))\n",
    "    R_SA = np.zeros((statesPerCarPark**2,n_action))\n",
    "    for s in range(statesPerCarPark**2):\n",
    "        for a in range(n_action):\n",
    "            action = a - 5\n",
    "            P_SASp[s,a], R_SA[s,a] = getSPrimeProbs(s,action)\n",
    "    V = np.zeros(statesPerCarPark**2) \n",
    "    Q_SA = R_SA + np.dot(P_SASp,V)\n",
    "    converged = False\n",
    "    counter = 0\n",
    "    bevore = datetime.datetime.now()\n",
    "    while not converged:\n",
    "        V = np.max(Q_SA, axis=1)\n",
    "        Q_SA_new = R_SA + gamma * np.dot(P_SASp,V)\n",
    "        print('Iteration ' + str(counter) + ' diff: ' + str(np.max(np.abs(np.max(Q_SA_new, axis=1)-V))))\n",
    "        counter += 1\n",
    "        if np.allclose(Q_SA_new,Q_SA):\n",
    "            converged = True\n",
    "        if counter > 50000:\n",
    "            print('Not Converged')\n",
    "            converged = True\n",
    "        Q_SA = Q_SA_new \n",
    "    after = datetime.datetime.now()\n",
    "    print(after-bevore)\n",
    "    \n",
    "    return Q_SA"
   ]
  },
  {
   "cell_type": "code",
   "execution_count": 9,
   "metadata": {
    "collapsed": false
   },
   "outputs": [
    {
     "name": "stdout",
     "output_type": "stream",
     "text": [
      "Iteration 0 diff: 62.9995281477\n",
      "Iteration 1 diff: 56.677752603\n",
      "Iteration 2 diff: 50.8633152834\n",
      "Iteration 3 diff: 45.4291613785\n",
      "Iteration 4 diff: 40.4097735626\n",
      "Iteration 5 diff: 35.8570095549\n",
      "Iteration 6 diff: 31.7503699907\n",
      "Iteration 7 diff: 28.0393290215\n",
      "Iteration 8 diff: 24.6886659364\n",
      "Iteration 9 diff: 21.6837528311\n",
      "Iteration 10 diff: 19.016856382\n",
      "Iteration 11 diff: 16.6748174251\n",
      "Iteration 12 diff: 14.6351465165\n",
      "Iteration 13 diff: 12.8671620276\n",
      "Iteration 14 diff: 11.3361528953\n",
      "Iteration 15 diff: 10.0106981742\n",
      "Iteration 16 diff: 8.86061084391\n",
      "Iteration 17 diff: 7.85955582489\n",
      "Iteration 18 diff: 6.98569286952\n",
      "Iteration 19 diff: 6.22051856486\n",
      "Iteration 20 diff: 5.54846400767\n",
      "Iteration 21 diff: 4.95638789096\n",
      "Iteration 22 diff: 4.43359005469\n",
      "Iteration 23 diff: 3.97017867818\n",
      "Iteration 24 diff: 3.55836347522\n",
      "Iteration 25 diff: 3.1916667849\n",
      "Iteration 26 diff: 2.864578119\n",
      "Iteration 27 diff: 2.57237704421\n",
      "Iteration 28 diff: 2.31097694782\n",
      "Iteration 29 diff: 2.07685849197\n",
      "Iteration 30 diff: 1.86698259025\n",
      "Iteration 31 diff: 1.67869914582\n",
      "Iteration 32 diff: 1.50968370594\n",
      "Iteration 33 diff: 1.35788870125\n",
      "Iteration 34 diff: 1.22150403189\n",
      "Iteration 35 diff: 1.09892463512\n",
      "Iteration 36 diff: 0.988723539348\n",
      "Iteration 37 diff: 0.889629295731\n",
      "Iteration 38 diff: 0.80050692667\n",
      "Iteration 39 diff: 0.7203436837\n",
      "Iteration 40 diff: 0.648230377812\n",
      "Iteration 41 diff: 0.583350674522\n",
      "Iteration 42 diff: 0.524974933151\n",
      "Iteration 43 diff: 0.4724482439\n",
      "Iteration 44 diff: 0.425182583736\n",
      "Iteration 45 diff: 0.382650074283\n",
      "Iteration 46 diff: 0.344374827589\n",
      "Iteration 47 diff: 0.30992998331\n",
      "Iteration 48 diff: 0.278931984654\n",
      "Iteration 49 diff: 0.251035217984\n",
      "Iteration 50 diff: 0.225929286302\n",
      "Iteration 51 diff: 0.203334663198\n",
      "Iteration 52 diff: 0.183000051336\n",
      "Iteration 53 diff: 0.16469925474\n",
      "Iteration 54 diff: 0.148228771846\n",
      "Iteration 55 diff: 0.13340552077\n",
      "Iteration 56 diff: 0.120064698775\n",
      "Iteration 57 diff: 0.10805803905\n",
      "Iteration 58 diff: 0.0972521000596\n",
      "Iteration 59 diff: 0.087526793362\n",
      "Iteration 60 diff: 0.0787740376554\n",
      "Iteration 61 diff: 0.0708965764602\n",
      "Iteration 62 diff: 0.063806871869\n",
      "Iteration 63 diff: 0.0574261464496\n",
      "Iteration 64 diff: 0.0516835004505\n",
      "Iteration 65 diff: 0.0465151236535\n",
      "Iteration 66 diff: 0.0418635882613\n",
      "Iteration 67 diff: 0.037677209462\n",
      "Iteration 68 diff: 0.0339094713742\n",
      "Iteration 69 diff: 0.0305185091429\n",
      "Iteration 70 diff: 0.027466644879\n",
      "Iteration 71 diff: 0.0247199685455\n",
      "Iteration 72 diff: 0.02224796115\n",
      "Iteration 73 diff: 0.0200231556344\n",
      "Iteration 74 diff: 0.0180208316721\n",
      "Iteration 75 diff: 0.01621874099\n",
      "Iteration 76 diff: 0.0145968601594\n",
      "Iteration 77 diff: 0.0131371681074\n",
      "Iteration 78 diff: 0.0118234458804\n",
      "Iteration 79 diff: 0.0106410964293\n",
      "Iteration 80 diff: 0.00957698241803\n",
      "Iteration 81 diff: 0.0086192802504\n",
      "Iteration 82 diff: 0.00775734869671\n",
      "Iteration 83 diff: 0.00698161065384\n",
      "Iteration 84 diff: 0.0062834467351\n",
      "Iteration 85 diff: 0.00565509949502\n",
      "Iteration 86 diff: 0.00508958723663\n",
      "Iteration 87 diff: 0.00458062643588\n",
      "Iteration 88 diff: 0.00412256192351\n",
      "Iteration 89 diff: 0.00371030404938\n",
      "0:00:00.154658\n"
     ]
    }
   ],
   "source": [
    "Q_SA = valueIteration(21,11,getSPrimeProbs)"
   ]
  },
  {
   "cell_type": "code",
   "execution_count": 10,
   "metadata": {
    "collapsed": true
   },
   "outputs": [],
   "source": [
    "from mpl_toolkits.mplot3d import Axes3D\n",
    "from matplotlib import cm\n",
    "\n",
    "def plot_policy(policy):\n",
    "    MAX_CAPACITY = 20\n",
    "    A = np.arange(0, MAX_CAPACITY+1)\n",
    "    B = np.arange(0, MAX_CAPACITY+1)\n",
    "    A, B = np.meshgrid(A, B)\n",
    "    Po = policy.reshape(MAX_CAPACITY+1,-1)\n",
    "    levels = range(-5,6,1)\n",
    "    plt.figure(figsize=(7,6))\n",
    "    CS = plt.contourf(A, B, Po, levels)\n",
    "    cbar = plt.colorbar(CS)\n",
    "    cbar.ax.set_ylabel('actions')\n",
    "    #plt.clabel(CS, inline=1, fontsize=10)\n",
    "    plt.title('Policy')\n",
    "    plt.xlabel(\"cars at B\")\n",
    "    plt.ylabel(\"cars at A\")"
   ]
  },
  {
   "cell_type": "code",
   "execution_count": 16,
   "metadata": {
    "collapsed": false
   },
   "outputs": [
    {
     "data": {
      "image/png": "[encoded data removed]",
      "text/plain": [
       "<matplotlib.figure.Figure at 0x7f69a0f019b0>"
      ]
     },
     "metadata": {},
     "output_type": "display_data"
    }
   ],
   "source": [
    "pol = np.argmax(Q_SA,axis=1) - 5\n",
    "plot_policy(pol)\n"
   ]
  },
  {
   "cell_type": "code",
   "execution_count": 12,
   "metadata": {
    "collapsed": false
   },
   "outputs": [
    {
     "data": {
      "text/plain": [
       "(441, 11)"
      ]
     },
     "execution_count": 12,
     "metadata": {},
     "output_type": "execute_result"
    }
   ],
   "source": [
    "Q_SA.shape"
   ]
  },
  {
   "cell_type": "code",
   "execution_count": 14,
   "metadata": {
    "collapsed": false
   },
   "outputs": [
    {
     "data": {
      "text/plain": [
       "array([ 613.19819981,  618.35910849,  623.34867512,  628.14242854,\n",
       "        632.69212575,  636.9257418 ,  634.25803633,  631.32404158,\n",
       "        628.12420643,  624.66682595,  620.962967  ])"
      ]
     },
     "execution_count": 14,
     "metadata": {},
     "output_type": "execute_result"
    }
   ],
   "source": [
    "Q_SA[(getValIndex(20,20))]"
   ]
  },
  {
   "cell_type": "code",
   "execution_count": null,
   "metadata": {
    "collapsed": false
   },
   "outputs": [],
   "source": []
  },
  {
   "cell_type": "code",
   "execution_count": null,
   "metadata": {
    "collapsed": true
   },
   "outputs": [],
   "source": []
  }
 ],
 "metadata": {
  "kernelspec": {
   "display_name": "Python 3",
   "language": "python",
   "name": "python3"
  },
  "language_info": {
   "codemirror_mode": {
    "name": "ipython",
    "version": 3
   },
   "file_extension": ".py",
   "mimetype": "text/x-python",
   "name": "python",
   "nbconvert_exporter": "python",
   "pygments_lexer": "ipython3",
   "version": "3.5.3"
  }
 },
 "nbformat": 4,
 "nbformat_minor": 2
}
