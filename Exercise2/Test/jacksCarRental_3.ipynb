{
 "cells": [
  {
   "cell_type": "code",
   "execution_count": 1,
   "metadata": {
    "collapsed": true
   },
   "outputs": [],
   "source": [
    "import numpy as np\n",
    "import scipy.stats\n",
    "import matplotlib.pyplot as plt\n",
    "%matplotlib inline\n",
    "\n",
    "\n",
    "class JacksCarRentalEnvironment:\n",
    "    \n",
    "    TRANSFER_COST = 2\n",
    "    RENTAL_INCOME = 10\n",
    "    MAX_CAPACITY = 20\n",
    "    REQUEST_RATE = (3,4)\n",
    "    RETURN_RATE = (3,2)\n",
    "    \n",
    "    def __init__(self):\n",
    "        self._carparkA = CarPark(3,3,self.__class__.MAX_CAPACITY)\n",
    "        self._carparkB = CarPark(4,2,self.__class__.MAX_CAPACITY)\n",
    "        print([self._carparkA.getObservation(),self._carparkB.getObservation()])\n",
    "        \n",
    "    def reset(self,val=None):\n",
    "        self._carparkA = CarPark(3,3,self.__class__.MAX_CAPACITY,val)\n",
    "        self._carparkB = CarPark(4,2,self.__class__.MAX_CAPACITY,val)\n",
    "        print([self._carparkA.getObservation(),self._carparkB.getObservation()])\n",
    "        \n",
    "        \n",
    "    def step(self,val):\n",
    "        # val > 0 Autos wandern von A nach B\n",
    "        # val < 0 Autos wandern von B nach A\n",
    "        if val < 0:\n",
    "            a = self._carparkB\n",
    "            b = self._carparkA\n",
    "            val = -1*val\n",
    "        else:\n",
    "            a = self._carparkA\n",
    "            b = self._carparkB\n",
    "        # Zu aller erst werden die autos von jack bewegt    \n",
    "        # An einem Tag kommen zuerst Kunden und leihen Autos\n",
    "        # Dann werden Autos zurückgegeben\n",
    "        # Dann kann jack entscheiden welche autos bewegt werden\n",
    "        # Einfachster Fall val == 0\n",
    "        carsRented = 0\n",
    "        reward = 0.0\n",
    "        done = False\n",
    "        if val == 0:\n",
    "            carsRented += a.carsRenting()\n",
    "            carsRented += b.carsRenting()\n",
    "            reward = 10.0*carsRented\n",
    "            # Bevor Autos kommen auf available pruefen oder spaeter\n",
    "            if 0 in [self._carparkA.getObservation(),self._carparkB.getObservation()]:\n",
    "                done = True\n",
    "            a.carsArriving()\n",
    "            b.carsArriving()\n",
    "        else:\n",
    "            availableCars = a.removeCars(val)\n",
    "            reward = -2.0*val\n",
    "            b.addCars(availableCars)\n",
    "            carsRented += a.carsRenting()\n",
    "            carsRented += b.carsRenting()\n",
    "            reward = reward + 10.0*carsRented\n",
    "            if 0 in [self._carparkA.getObservation(),self._carparkB.getObservation()]:\n",
    "                done = True\n",
    "            a.carsArriving()\n",
    "            b.carsArriving()\n",
    "        observation = [self._carparkA.getObservation(),self._carparkB.getObservation()]\n",
    "        return (observation,reward,done,'')\n",
    "    \n",
    "    \n",
    "    \n",
    "class CarPark:\n",
    "    \n",
    "    def __init__(self, lamRequest, lamReturn, maxSize,val=None):\n",
    "        self._lamRequest = lamRequest\n",
    "        self._lamReturn = lamReturn\n",
    "        self._maxSize = maxSize\n",
    "        self._maxMove = 5\n",
    "        if val == None:\n",
    "            self._carsAvailable = np.random.randint(0,21,1)[0]\n",
    "        else:\n",
    "            self._carsAvailable = val\n",
    "        \n",
    "        \n",
    "        \n",
    "    def getObservation(self):\n",
    "        return self._carsAvailable\n",
    "    \n",
    "    def carsArriving(self):\n",
    "        r = np.random.poisson(self._lamReturn)\n",
    "        if self._carsAvailable + r > self._maxSize:\n",
    "            self._carsAvailable = self._maxSize\n",
    "        else:\n",
    "            self._carsAvailable += r\n",
    "    \n",
    "    def carsRenting(self):\n",
    "        carsRented = np.random.poisson(self._lamRequest)\n",
    "        if self._carsAvailable - carsRented < 0:\n",
    "            carsRented = self._carsAvailable\n",
    "            self._carsAvailable = 0\n",
    "        else:\n",
    "            self._carsAvailable -= carsRented\n",
    "        return carsRented\n",
    "           \n",
    "    def addCars(self,amount):\n",
    "        if amount > self._maxMove:\n",
    "            raise Exception('Zu viele Autos')\n",
    "        elif amount < 0:\n",
    "            raise Exception('Du wolltest autos hinzufuegen')\n",
    "        self._carsAvailable += amount\n",
    "        if self._carsAvailable > self._maxSize:\n",
    "            self._carsAvailable = self._maxSize\n",
    "            \n",
    "    def removeCars(self,amount):\n",
    "        if amount > self._maxMove:\n",
    "            raise Exception('Zu viele Autos')\n",
    "        elif amount < 0:\n",
    "            raise Exception('Du')\n",
    "        if self._carsAvailable - amount < 0:\n",
    "            amount = self._carsAvailable\n",
    "            self._carsAvailable = 0\n",
    "        else:\n",
    "            self._carsAvailable -= amount\n",
    "        return amount"
   ]
  },
  {
   "cell_type": "code",
   "execution_count": 2,
   "metadata": {
    "collapsed": true
   },
   "outputs": [],
   "source": [
    "class JacksCarRentalEnvironmentModel(JacksCarRentalEnvironment):\n",
    "    \n",
    "    def get_transition_probabilities_and_expected_reward(self, state, action):\n",
    "        \"\"\"\n",
    "            Compute the $p(s', r\\mid s,a)$\n",
    "            Parameters\n",
    "            ----------\n",
    "            old_state: tuple of two ints\n",
    "                the state (cars_at_A, cars_at_B)\n",
    "            action: int\n",
    "                nigthly movements of the cars as a int between -5 to 5, e.g.: \n",
    "                action +3: move three cars from A to B. \n",
    "                action -2: move two cars from B to A.\n",
    "                \n",
    "            Returns\n",
    "            -------\n",
    "            numpy array (2d - float): mapping from (new) states to probabilities\n",
    "                index first dimension: cars at A\n",
    "                index second dimension: cars at B\n",
    "                value: probability  \n",
    "            float:  expected reward for the state-action pair\n",
    "        \"\"\"\n",
    "        #assert type(action) == int\n",
    "        assert np.abs(action) <=5\n",
    "        # first we move the cars in the night\n",
    "        num_states_for_a_location = self.__class__.MAX_CAPACITY + 1\n",
    "            \n",
    "        state = self._nightly_moves(state, action)\n",
    "    \n",
    "        expected_reward = - self.__class__.TRANSFER_COST * np.abs(action)\n",
    "        expected_reward += self._expected_reward_rent(state)\n",
    "        \n",
    "        transition_probabilities = self._rent_transition_probabilities(state)\n",
    "        transition_probabilities = self._returns_transition_probabilities(transition_probabilities)\n",
    "        return transition_probabilities, expected_reward  \n",
    "        \n",
    "        \n",
    "    def _nightly_moves(self, state, action):\n",
    "        \n",
    "        cars_at_A = state[0]\n",
    "        cars_at_B = state[1]\n",
    "        if action > 0:\n",
    "            cars_moved = min(action, cars_at_A)\n",
    "        else:\n",
    "            cars_moved = max(action, -cars_at_B)\n",
    "        \n",
    "        cars_at_A = min(cars_at_A - cars_moved, self.__class__.MAX_CAPACITY)\n",
    "        cars_at_B = min(cars_at_B + cars_moved, self.__class__.MAX_CAPACITY)\n",
    "        return [cars_at_A, cars_at_B]\n",
    "        \n",
    "    def _expected_reward_rent(self, state):\n",
    "        expected_reward_rent = 0.\n",
    "        m = self.__class__.MAX_CAPACITY+1\n",
    "        request_mu = self.__class__.REQUEST_RATE\n",
    "        for i in (0,1):\n",
    "            cars_at_loc = state[i]\n",
    "            rv = scipy.stats.poisson(request_mu[i])\n",
    "            rent_prob = (rv.pmf(range(m)))\n",
    "            #logger.debug(rent_prob)\n",
    "            rent_prob[cars_at_loc] = rent_prob[cars_at_loc:].sum()\n",
    "            rent_prob[cars_at_loc+1:] = 0. \n",
    "            #logger.debug(rent_prob)\n",
    "            expected_reward_rent += np.dot(np.arange(len(rent_prob)), rent_prob) * self.__class__.RENTAL_INCOME\n",
    "        return expected_reward_rent\n",
    "        \n",
    "    def _rent_transition_probabilities(self, state):\n",
    "        \n",
    "        num_states_for_a_location = self.__class__.MAX_CAPACITY + 1\n",
    "        m = 15\n",
    "        n = num_states_for_a_location + 2*m\n",
    "        p_  = [np.zeros(n), np.zeros(n)]\n",
    "        request_mu = self.__class__.REQUEST_RATE\n",
    "        \n",
    "        for i in (0,1):\n",
    "            rv = scipy.stats.poisson(request_mu[i])\n",
    "            cars_at_loc = state[i]\n",
    "            x = cars_at_loc + m + 1     \n",
    "            rent_prob = (rv.pmf(range(x)))\n",
    "            assert state[i]-x+m+1 == 0\n",
    "            p_[i][0:cars_at_loc+m+1] = rent_prob[::-1]\n",
    "            p_[i][m] = p_[i][:m+1].sum()\n",
    "            p_[i] = p_[i][m:-m]\n",
    "        return p_\n",
    "    \n",
    "    def _returns_transition_probabilities(self, state_probalility):\n",
    "        \n",
    "        num_states_for_a_location = self.__class__.MAX_CAPACITY + 1\n",
    "        m=11\n",
    "        n = num_states_for_a_location + 2*m\n",
    "        returns_mu = self.__class__.RETURN_RATE\n",
    "        p_  = [np.zeros(num_states_for_a_location), np.zeros(num_states_for_a_location)]\n",
    "        for i in (0,1):\n",
    "            rv = scipy.stats.poisson(returns_mu[i])\n",
    "            #logger.debug(len(state_probalility[i]))\n",
    "            for cars_at_loc in range(len(state_probalility[i])):\n",
    "                p = np.zeros(n)\n",
    "                #logger.debug(p.shape)\n",
    "                x = num_states_for_a_location - cars_at_loc + m - 1     \n",
    "                return_prob = (rv.pmf(range(x)))\n",
    "                #logger.debug (p[cars_at_loc+m:-1].shape)\n",
    "                p[cars_at_loc+m:-1] = return_prob\n",
    "                #logger.debug(return_prob)\n",
    "                p[num_states_for_a_location+m-1] = p[num_states_for_a_location+m-1:].sum()\n",
    "                p = p[m:-m]\n",
    "                #logger.debug(p)\n",
    "                #logger.debug(p.sum())\n",
    "                p_[i] += p * state_probalility[i][cars_at_loc]\n",
    "        return p_\n",
    "    "
   ]
  },
  {
   "cell_type": "code",
   "execution_count": 3,
   "metadata": {
    "collapsed": false
   },
   "outputs": [],
   "source": [
    "def updateV(s,v_Old,policy):\n",
    "    # s ist (a,b)\n",
    "    # γ = 1 = y\n",
    "    y = 0.9 \n",
    "    actions = np.arange(-5,6,1)\n",
    "    # Summe ueber a gegeben S\n",
    "    v_s = 0\n",
    "    pol_forState = policy[s[0],s[1]]\n",
    "    for i in range(len(actions)):\n",
    "        act = actions[i]\n",
    "        pol_a_s = pol_forState[i] \n",
    "        stateprobs, r_a = jack.get_transition_probabilities_and_expected_reward(s,act)\n",
    "        # Summe ueber alle S' gegeben a\n",
    "        q_a_SPrime = 0\n",
    "        for carA in range(len(stateprobs[0])):\n",
    "            for carB in range(len(stateprobs[1])):\n",
    "                prob_of_State_prime = stateprobs[0][carA] * stateprobs[1][carB]\n",
    "                q_a_SPrime += prob_of_State_prime * v_Old[carA,carB]  \n",
    "        v_s += pol_a_s * ( r_a + y * q_a_SPrime)\n",
    "    return v_s\n",
    "\n",
    "\n",
    "def updateV_Synchron(v_Old,policy):\n",
    "    v_new = np.zeros((21,21))\n",
    "    for stateA in range(len(v_Old)):\n",
    "        for stateB in range(len(v_Old[stateA])):\n",
    "            state = (stateA,stateB)\n",
    "            v_new[stateA,stateB] = updateV(state,v_Old,policy)\n",
    "    return v_new\n",
    "\n",
    "def doPolicyEvaluation(v_Old, policy):\n",
    "    ## Dauert zu Lange\n",
    "    v_new = updateV_Synchron(v_Old,policy)\n",
    "    counter = 1\n",
    "    diff = np.max(np.abs(v_Old-v_new))\n",
    "    while diff > 0.1 and counter < 50 :\n",
    "        print(str(counter) + ' Updates of V, max difference to last: ' + str(diff))\n",
    "        counter += 1\n",
    "        v_Old = v_new\n",
    "        v_new = updateV_Synchron(v_Old,policy)\n",
    "        diff = np.max(np.abs(v_Old-v_new))\n",
    "    if diff <= 0.1:\n",
    "        print(str(counter) + ' Updates of V, max difference to last was less 0.1')\n",
    "    else: \n",
    "        print(str(counter) + ' Stoped after 50 Updates of V')\n",
    "    return v_new\n",
    "\n",
    "# Improve policy by acting greedy\n",
    "def policyImprovement(v_new):\n",
    "    policiy_new = np.zeros((21,21,11))\n",
    "    carA, carB = 21, 21\n",
    "    for carA_I in range(carA):\n",
    "        for carB_I in range(carB):\n",
    "            best_act, best_actIndex = oneStepLookAHead((carA_I,carB_I),v_new)\n",
    "            policiy_new[carA_I,carB_I,best_actIndex] = 1\n",
    "    return policiy_new\n",
    "\n",
    "\n",
    "def oneStepLookAHead(s,v_new):\n",
    "    # s ist (a,b)\n",
    "    # γ = 1 = y\n",
    "    # Fuer alle Aktionen expected Reward berechnen\n",
    "    y = 1\n",
    "    temp = 0 # sum\n",
    "    actions = np.arange(-5,6,1)\n",
    "    q_a = np.zeros(len(actions))\n",
    "    for i in range(len(actions)):\n",
    "        act = actions[i] \n",
    "        stateprobs, r_a = jack.get_transition_probabilities_and_expected_reward(s,act)\n",
    "        # Summe ueber alle S'\n",
    "        temp_a = 0\n",
    "        for carA in range(len(stateprobs[0])):\n",
    "            for carB in range(len(stateprobs[1])):\n",
    "                prob_of_State_prime = stateprobs[0][carA] * stateprobs[1][carB]\n",
    "                temp_a += prob_of_State_prime * v_new[carA,carB]  \n",
    "        q_a[i] = r_a + y * temp_a\n",
    "        \n",
    "    best_actIndex = np.argmax(q_a)\n",
    "    best_act = actions[best_actIndex]\n",
    "    \n",
    "    return best_act, best_actIndex"
   ]
  },
  {
   "cell_type": "code",
   "execution_count": 4,
   "metadata": {
    "collapsed": false
   },
   "outputs": [
    {
     "name": "stdout",
     "output_type": "stream",
     "text": [
      "[10, 1]\n",
      "1 Updates of V, max difference to last: 64.5454465787\n",
      "2 Updates of V, max difference to last: 58.0326615328\n",
      "3 Updates of V, max difference to last: 51.3860237319\n",
      "4 Updates of V, max difference to last: 44.4732124759\n",
      "5 Updates of V, max difference to last: 38.1402841536\n",
      "6 Updates of V, max difference to last: 32.7449659477\n",
      "7 Updates of V, max difference to last: 28.2654919355\n",
      "8 Updates of V, max difference to last: 24.5551617824\n",
      "9 Updates of V, max difference to last: 21.4589274387\n",
      "10 Updates of V, max difference to last: 18.848507302\n",
      "11 Updates of V, max difference to last: 16.6254972301\n",
      "12 Updates of V, max difference to last: 14.7156340864\n",
      "13 Updates of V, max difference to last: 13.0624558824\n",
      "14 Updates of V, max difference to last: 11.6223792479\n",
      "15 Updates of V, max difference to last: 10.361218549\n",
      "16 Updates of V, max difference to last: 9.2517615825\n",
      "17 Updates of V, max difference to last: 8.2720577183\n",
      "18 Updates of V, max difference to last: 7.40418382888\n",
      "19 Updates of V, max difference to last: 6.63333822145\n",
      "20 Updates of V, max difference to last: 5.94716619349\n",
      "21 Updates of V, max difference to last: 5.33525285283\n",
      "22 Updates of V, max difference to last: 4.78873848938\n",
      "23 Updates of V, max difference to last: 4.30002450572\n",
      "24 Updates of V, max difference to last: 3.86254661904\n",
      "25 Updates of V, max difference to last: 3.4705982465\n",
      "26 Updates of V, max difference to last: 3.11919150043\n",
      "27 Updates of V, max difference to last: 2.80394653328\n",
      "28 Updates of V, max difference to last: 2.52100240919\n",
      "29 Updates of V, max difference to last: 2.26694446507\n",
      "30 Updates of V, max difference to last: 2.0387444315\n",
      "31 Updates of V, max difference to last: 1.8337105374\n",
      "32 Updates of V, max difference to last: 1.64944551886\n",
      "33 Updates of V, max difference to last: 1.48381096071\n",
      "34 Updates of V, max difference to last: 1.33489677272\n",
      "35 Updates of V, max difference to last: 1.20099487634\n",
      "36 Updates of V, max difference to last: 1.080576382\n",
      "37 Updates of V, max difference to last: 0.972271688766\n",
      "38 Updates of V, max difference to last: 0.8748530529\n",
      "39 Updates of V, max difference to last: 0.787219259518\n",
      "40 Updates of V, max difference to last: 0.708382098388\n",
      "41 Updates of V, max difference to last: 0.637454397561\n",
      "42 Updates of V, max difference to last: 0.573639409565\n",
      "43 Updates of V, max difference to last: 0.516221377702\n"
     ]
    },
    {
     "ename": "KeyboardInterrupt",
     "evalue": "",
     "output_type": "error",
     "traceback": [
      "\u001b[0;31m---------------------------------------------------------------------------\u001b[0m",
      "\u001b[0;31mKeyboardInterrupt\u001b[0m                         Traceback (most recent call last)",
      "\u001b[0;32m<ipython-input-4-1062c01417dc>\u001b[0m in \u001b[0;36m<module>\u001b[0;34m()\u001b[0m\n\u001b[1;32m      3\u001b[0m \u001b[0mpolicy\u001b[0m \u001b[0;34m=\u001b[0m \u001b[0mnp\u001b[0m\u001b[0;34m.\u001b[0m\u001b[0mzeros\u001b[0m\u001b[0;34m(\u001b[0m\u001b[0;34m(\u001b[0m\u001b[0;36m21\u001b[0m\u001b[0;34m,\u001b[0m\u001b[0;36m21\u001b[0m\u001b[0;34m,\u001b[0m\u001b[0;36m11\u001b[0m\u001b[0;34m)\u001b[0m\u001b[0;34m)\u001b[0m\u001b[0;34m\u001b[0m\u001b[0m\n\u001b[1;32m      4\u001b[0m \u001b[0mpolicy\u001b[0m\u001b[0;34m.\u001b[0m\u001b[0mfill\u001b[0m\u001b[0;34m(\u001b[0m\u001b[0;36m1\u001b[0m\u001b[0;34m/\u001b[0m\u001b[0;36m11\u001b[0m\u001b[0;34m)\u001b[0m\u001b[0;34m\u001b[0m\u001b[0m\n\u001b[0;32m----> 5\u001b[0;31m \u001b[0mv_new\u001b[0m \u001b[0;34m=\u001b[0m \u001b[0mdoPolicyEvaluation\u001b[0m\u001b[0;34m(\u001b[0m\u001b[0mv_old\u001b[0m\u001b[0;34m,\u001b[0m \u001b[0mpolicy\u001b[0m\u001b[0;34m)\u001b[0m\u001b[0;34m\u001b[0m\u001b[0m\n\u001b[0m",
      "\u001b[0;32m<ipython-input-3-23f8ae1f8338>\u001b[0m in \u001b[0;36mdoPolicyEvaluation\u001b[0;34m(v_Old, policy)\u001b[0m\n\u001b[1;32m     38\u001b[0m         \u001b[0mcounter\u001b[0m \u001b[0;34m+=\u001b[0m \u001b[0;36m1\u001b[0m\u001b[0;34m\u001b[0m\u001b[0m\n\u001b[1;32m     39\u001b[0m         \u001b[0mv_Old\u001b[0m \u001b[0;34m=\u001b[0m \u001b[0mv_new\u001b[0m\u001b[0;34m\u001b[0m\u001b[0m\n\u001b[0;32m---> 40\u001b[0;31m         \u001b[0mv_new\u001b[0m \u001b[0;34m=\u001b[0m \u001b[0mupdateV_Synchron\u001b[0m\u001b[0;34m(\u001b[0m\u001b[0mv_Old\u001b[0m\u001b[0;34m,\u001b[0m\u001b[0mpolicy\u001b[0m\u001b[0;34m)\u001b[0m\u001b[0;34m\u001b[0m\u001b[0m\n\u001b[0m\u001b[1;32m     41\u001b[0m         \u001b[0mdiff\u001b[0m \u001b[0;34m=\u001b[0m \u001b[0mnp\u001b[0m\u001b[0;34m.\u001b[0m\u001b[0mmax\u001b[0m\u001b[0;34m(\u001b[0m\u001b[0mnp\u001b[0m\u001b[0;34m.\u001b[0m\u001b[0mabs\u001b[0m\u001b[0;34m(\u001b[0m\u001b[0mv_Old\u001b[0m\u001b[0;34m-\u001b[0m\u001b[0mv_new\u001b[0m\u001b[0;34m)\u001b[0m\u001b[0;34m)\u001b[0m\u001b[0;34m\u001b[0m\u001b[0m\n\u001b[1;32m     42\u001b[0m     \u001b[0;32mif\u001b[0m \u001b[0mdiff\u001b[0m \u001b[0;34m<=\u001b[0m \u001b[0;36m0.1\u001b[0m\u001b[0;34m:\u001b[0m\u001b[0;34m\u001b[0m\u001b[0m\n",
      "\u001b[0;32m<ipython-input-3-23f8ae1f8338>\u001b[0m in \u001b[0;36mupdateV_Synchron\u001b[0;34m(v_Old, policy)\u001b[0m\n\u001b[1;32m     26\u001b[0m         \u001b[0;32mfor\u001b[0m \u001b[0mstateB\u001b[0m \u001b[0;32min\u001b[0m \u001b[0mrange\u001b[0m\u001b[0;34m(\u001b[0m\u001b[0mlen\u001b[0m\u001b[0;34m(\u001b[0m\u001b[0mv_Old\u001b[0m\u001b[0;34m[\u001b[0m\u001b[0mstateA\u001b[0m\u001b[0;34m]\u001b[0m\u001b[0;34m)\u001b[0m\u001b[0;34m)\u001b[0m\u001b[0;34m:\u001b[0m\u001b[0;34m\u001b[0m\u001b[0m\n\u001b[1;32m     27\u001b[0m             \u001b[0mstate\u001b[0m \u001b[0;34m=\u001b[0m \u001b[0;34m(\u001b[0m\u001b[0mstateA\u001b[0m\u001b[0;34m,\u001b[0m\u001b[0mstateB\u001b[0m\u001b[0;34m)\u001b[0m\u001b[0;34m\u001b[0m\u001b[0m\n\u001b[0;32m---> 28\u001b[0;31m             \u001b[0mv_new\u001b[0m\u001b[0;34m[\u001b[0m\u001b[0mstateA\u001b[0m\u001b[0;34m,\u001b[0m\u001b[0mstateB\u001b[0m\u001b[0;34m]\u001b[0m \u001b[0;34m=\u001b[0m \u001b[0mupdateV\u001b[0m\u001b[0;34m(\u001b[0m\u001b[0mstate\u001b[0m\u001b[0;34m,\u001b[0m\u001b[0mv_Old\u001b[0m\u001b[0;34m,\u001b[0m\u001b[0mpolicy\u001b[0m\u001b[0;34m)\u001b[0m\u001b[0;34m\u001b[0m\u001b[0m\n\u001b[0m\u001b[1;32m     29\u001b[0m     \u001b[0;32mreturn\u001b[0m \u001b[0mv_new\u001b[0m\u001b[0;34m\u001b[0m\u001b[0m\n\u001b[1;32m     30\u001b[0m \u001b[0;34m\u001b[0m\u001b[0m\n",
      "\u001b[0;32m<ipython-input-3-23f8ae1f8338>\u001b[0m in \u001b[0;36mupdateV\u001b[0;34m(s, v_Old, policy)\u001b[0m\n\u001b[1;32m     10\u001b[0m         \u001b[0mact\u001b[0m \u001b[0;34m=\u001b[0m \u001b[0mactions\u001b[0m\u001b[0;34m[\u001b[0m\u001b[0mi\u001b[0m\u001b[0;34m]\u001b[0m\u001b[0;34m\u001b[0m\u001b[0m\n\u001b[1;32m     11\u001b[0m         \u001b[0mpol_a_s\u001b[0m \u001b[0;34m=\u001b[0m \u001b[0mpol_forState\u001b[0m\u001b[0;34m[\u001b[0m\u001b[0mi\u001b[0m\u001b[0;34m]\u001b[0m\u001b[0;34m\u001b[0m\u001b[0m\n\u001b[0;32m---> 12\u001b[0;31m         \u001b[0mstateprobs\u001b[0m\u001b[0;34m,\u001b[0m \u001b[0mr_a\u001b[0m \u001b[0;34m=\u001b[0m \u001b[0mjack\u001b[0m\u001b[0;34m.\u001b[0m\u001b[0mget_transition_probabilities_and_expected_reward\u001b[0m\u001b[0;34m(\u001b[0m\u001b[0ms\u001b[0m\u001b[0;34m,\u001b[0m\u001b[0mact\u001b[0m\u001b[0;34m)\u001b[0m\u001b[0;34m\u001b[0m\u001b[0m\n\u001b[0m\u001b[1;32m     13\u001b[0m         \u001b[0;31m# Summe ueber alle S' gegeben a\u001b[0m\u001b[0;34m\u001b[0m\u001b[0;34m\u001b[0m\u001b[0m\n\u001b[1;32m     14\u001b[0m         \u001b[0mq_a_SPrime\u001b[0m \u001b[0;34m=\u001b[0m \u001b[0;36m0\u001b[0m\u001b[0;34m\u001b[0m\u001b[0m\n",
      "\u001b[0;32m<ipython-input-2-c02684bcf374>\u001b[0m in \u001b[0;36mget_transition_probabilities_and_expected_reward\u001b[0;34m(self, state, action)\u001b[0m\n\u001b[1;32m     32\u001b[0m \u001b[0;34m\u001b[0m\u001b[0m\n\u001b[1;32m     33\u001b[0m         \u001b[0mtransition_probabilities\u001b[0m \u001b[0;34m=\u001b[0m \u001b[0mself\u001b[0m\u001b[0;34m.\u001b[0m\u001b[0m_rent_transition_probabilities\u001b[0m\u001b[0;34m(\u001b[0m\u001b[0mstate\u001b[0m\u001b[0;34m)\u001b[0m\u001b[0;34m\u001b[0m\u001b[0m\n\u001b[0;32m---> 34\u001b[0;31m         \u001b[0mtransition_probabilities\u001b[0m \u001b[0;34m=\u001b[0m \u001b[0mself\u001b[0m\u001b[0;34m.\u001b[0m\u001b[0m_returns_transition_probabilities\u001b[0m\u001b[0;34m(\u001b[0m\u001b[0mtransition_probabilities\u001b[0m\u001b[0;34m)\u001b[0m\u001b[0;34m\u001b[0m\u001b[0m\n\u001b[0m\u001b[1;32m     35\u001b[0m         \u001b[0;32mreturn\u001b[0m \u001b[0mtransition_probabilities\u001b[0m\u001b[0;34m,\u001b[0m \u001b[0mexpected_reward\u001b[0m\u001b[0;34m\u001b[0m\u001b[0m\n\u001b[1;32m     36\u001b[0m \u001b[0;34m\u001b[0m\u001b[0m\n",
      "\u001b[0;32m<ipython-input-2-c02684bcf374>\u001b[0m in \u001b[0;36m_returns_transition_probabilities\u001b[0;34m(self, state_probalility)\u001b[0m\n\u001b[1;32m     97\u001b[0m                 \u001b[0;31m#logger.debug(p.shape)\u001b[0m\u001b[0;34m\u001b[0m\u001b[0;34m\u001b[0m\u001b[0m\n\u001b[1;32m     98\u001b[0m                 \u001b[0mx\u001b[0m \u001b[0;34m=\u001b[0m \u001b[0mnum_states_for_a_location\u001b[0m \u001b[0;34m-\u001b[0m \u001b[0mcars_at_loc\u001b[0m \u001b[0;34m+\u001b[0m \u001b[0mm\u001b[0m \u001b[0;34m-\u001b[0m \u001b[0;36m1\u001b[0m\u001b[0;34m\u001b[0m\u001b[0m\n\u001b[0;32m---> 99\u001b[0;31m                 \u001b[0mreturn_prob\u001b[0m \u001b[0;34m=\u001b[0m \u001b[0;34m(\u001b[0m\u001b[0mrv\u001b[0m\u001b[0;34m.\u001b[0m\u001b[0mpmf\u001b[0m\u001b[0;34m(\u001b[0m\u001b[0mrange\u001b[0m\u001b[0;34m(\u001b[0m\u001b[0mx\u001b[0m\u001b[0;34m)\u001b[0m\u001b[0;34m)\u001b[0m\u001b[0;34m)\u001b[0m\u001b[0;34m\u001b[0m\u001b[0m\n\u001b[0m\u001b[1;32m    100\u001b[0m                 \u001b[0;31m#logger.debug (p[cars_at_loc+m:-1].shape)\u001b[0m\u001b[0;34m\u001b[0m\u001b[0;34m\u001b[0m\u001b[0m\n\u001b[1;32m    101\u001b[0m                 \u001b[0mp\u001b[0m\u001b[0;34m[\u001b[0m\u001b[0mcars_at_loc\u001b[0m\u001b[0;34m+\u001b[0m\u001b[0mm\u001b[0m\u001b[0;34m:\u001b[0m\u001b[0;34m-\u001b[0m\u001b[0;36m1\u001b[0m\u001b[0;34m]\u001b[0m \u001b[0;34m=\u001b[0m \u001b[0mreturn_prob\u001b[0m\u001b[0;34m\u001b[0m\u001b[0m\n",
      "\u001b[0;32m/usr/local/lib/python3.5/dist-packages/scipy/stats/_distn_infrastructure.py\u001b[0m in \u001b[0;36mpmf\u001b[0;34m(self, k)\u001b[0m\n\u001b[1;32m    500\u001b[0m \u001b[0;34m\u001b[0m\u001b[0m\n\u001b[1;32m    501\u001b[0m     \u001b[0;32mdef\u001b[0m \u001b[0mpmf\u001b[0m\u001b[0;34m(\u001b[0m\u001b[0mself\u001b[0m\u001b[0;34m,\u001b[0m \u001b[0mk\u001b[0m\u001b[0;34m)\u001b[0m\u001b[0;34m:\u001b[0m\u001b[0;34m\u001b[0m\u001b[0m\n\u001b[0;32m--> 502\u001b[0;31m         \u001b[0;32mreturn\u001b[0m \u001b[0mself\u001b[0m\u001b[0;34m.\u001b[0m\u001b[0mdist\u001b[0m\u001b[0;34m.\u001b[0m\u001b[0mpmf\u001b[0m\u001b[0;34m(\u001b[0m\u001b[0mk\u001b[0m\u001b[0;34m,\u001b[0m \u001b[0;34m*\u001b[0m\u001b[0mself\u001b[0m\u001b[0;34m.\u001b[0m\u001b[0margs\u001b[0m\u001b[0;34m,\u001b[0m \u001b[0;34m**\u001b[0m\u001b[0mself\u001b[0m\u001b[0;34m.\u001b[0m\u001b[0mkwds\u001b[0m\u001b[0;34m)\u001b[0m\u001b[0;34m\u001b[0m\u001b[0m\n\u001b[0m\u001b[1;32m    503\u001b[0m \u001b[0;34m\u001b[0m\u001b[0m\n\u001b[1;32m    504\u001b[0m     \u001b[0;32mdef\u001b[0m \u001b[0mlogpmf\u001b[0m\u001b[0;34m(\u001b[0m\u001b[0mself\u001b[0m\u001b[0;34m,\u001b[0m \u001b[0mk\u001b[0m\u001b[0;34m)\u001b[0m\u001b[0;34m:\u001b[0m\u001b[0;34m\u001b[0m\u001b[0m\n",
      "\u001b[0;32m/usr/local/lib/python3.5/dist-packages/scipy/stats/_distn_infrastructure.py\u001b[0m in \u001b[0;36mpmf\u001b[0;34m(self, k, *args, **kwds)\u001b[0m\n\u001b[1;32m   2838\u001b[0m         \u001b[0mcond\u001b[0m \u001b[0;34m=\u001b[0m \u001b[0mcond0\u001b[0m \u001b[0;34m&\u001b[0m \u001b[0mcond1\u001b[0m\u001b[0;34m\u001b[0m\u001b[0m\n\u001b[1;32m   2839\u001b[0m         \u001b[0moutput\u001b[0m \u001b[0;34m=\u001b[0m \u001b[0mzeros\u001b[0m\u001b[0;34m(\u001b[0m\u001b[0mshape\u001b[0m\u001b[0;34m(\u001b[0m\u001b[0mcond\u001b[0m\u001b[0;34m)\u001b[0m\u001b[0;34m,\u001b[0m \u001b[0;34m'd'\u001b[0m\u001b[0;34m)\u001b[0m\u001b[0;34m\u001b[0m\u001b[0m\n\u001b[0;32m-> 2840\u001b[0;31m         \u001b[0mplace\u001b[0m\u001b[0;34m(\u001b[0m\u001b[0moutput\u001b[0m\u001b[0;34m,\u001b[0m \u001b[0;34m(\u001b[0m\u001b[0;36m1\u001b[0m\u001b[0;34m-\u001b[0m\u001b[0mcond0\u001b[0m\u001b[0;34m)\u001b[0m \u001b[0;34m+\u001b[0m \u001b[0mnp\u001b[0m\u001b[0;34m.\u001b[0m\u001b[0misnan\u001b[0m\u001b[0;34m(\u001b[0m\u001b[0mk\u001b[0m\u001b[0;34m)\u001b[0m\u001b[0;34m,\u001b[0m \u001b[0mself\u001b[0m\u001b[0;34m.\u001b[0m\u001b[0mbadvalue\u001b[0m\u001b[0;34m)\u001b[0m\u001b[0;34m\u001b[0m\u001b[0m\n\u001b[0m\u001b[1;32m   2841\u001b[0m         \u001b[0;32mif\u001b[0m \u001b[0mnp\u001b[0m\u001b[0;34m.\u001b[0m\u001b[0many\u001b[0m\u001b[0;34m(\u001b[0m\u001b[0mcond\u001b[0m\u001b[0;34m)\u001b[0m\u001b[0;34m:\u001b[0m\u001b[0;34m\u001b[0m\u001b[0m\n\u001b[1;32m   2842\u001b[0m             \u001b[0mgoodargs\u001b[0m \u001b[0;34m=\u001b[0m \u001b[0margsreduce\u001b[0m\u001b[0;34m(\u001b[0m\u001b[0mcond\u001b[0m\u001b[0;34m,\u001b[0m \u001b[0;34m*\u001b[0m\u001b[0;34m(\u001b[0m\u001b[0;34m(\u001b[0m\u001b[0mk\u001b[0m\u001b[0;34m,\u001b[0m\u001b[0;34m)\u001b[0m\u001b[0;34m+\u001b[0m\u001b[0margs\u001b[0m\u001b[0;34m)\u001b[0m\u001b[0;34m)\u001b[0m\u001b[0;34m\u001b[0m\u001b[0m\n",
      "\u001b[0;32m/usr/local/lib/python3.5/dist-packages/numpy/lib/function_base.py\u001b[0m in \u001b[0;36mplace\u001b[0;34m(arr, mask, vals)\u001b[0m\n\u001b[1;32m   2368\u001b[0m \u001b[0;34m\u001b[0m\u001b[0m\n\u001b[1;32m   2369\u001b[0m     \"\"\"\n\u001b[0;32m-> 2370\u001b[0;31m     \u001b[0;32mif\u001b[0m \u001b[0;32mnot\u001b[0m \u001b[0misinstance\u001b[0m\u001b[0;34m(\u001b[0m\u001b[0marr\u001b[0m\u001b[0;34m,\u001b[0m \u001b[0mnp\u001b[0m\u001b[0;34m.\u001b[0m\u001b[0mndarray\u001b[0m\u001b[0;34m)\u001b[0m\u001b[0;34m:\u001b[0m\u001b[0;34m\u001b[0m\u001b[0m\n\u001b[0m\u001b[1;32m   2371\u001b[0m         raise TypeError(\"argument 1 must be numpy.ndarray, \"\n\u001b[1;32m   2372\u001b[0m                         \"not {name}\".format(name=type(arr).__name__))\n",
      "\u001b[0;31mKeyboardInterrupt\u001b[0m: "
     ]
    }
   ],
   "source": [
    "jack = JacksCarRentalEnvironmentModel()\n",
    "v_old = np.zeros((21,21)) \n",
    "policy = np.zeros((21,21,11))\n",
    "policy.fill(1/11)\n",
    "v_new = doPolicyEvaluation(v_old, policy)"
   ]
  },
  {
   "cell_type": "code",
   "execution_count": null,
   "metadata": {
    "collapsed": false
   },
   "outputs": [],
   "source": [
    "v_new2 = doPolicyEvaluation(v_new, policy)"
   ]
  },
  {
   "cell_type": "code",
   "execution_count": null,
   "metadata": {
    "collapsed": false
   },
   "outputs": [],
   "source": [
    "print([jack._carparkA.getObservation(),jack._carparkB.getObservation()])"
   ]
  },
  {
   "cell_type": "code",
   "execution_count": null,
   "metadata": {
    "collapsed": false
   },
   "outputs": [],
   "source": [
    "import sys\n",
    "print(sys.version)"
   ]
  },
  {
   "cell_type": "code",
   "execution_count": null,
   "metadata": {
    "collapsed": false
   },
   "outputs": [],
   "source": [
    "from mpl_toolkits.mplot3d import Axes3D\n",
    "from matplotlib import cm\n",
    "\n",
    "MAX_CAPACITY = 20\n",
    "\n",
    "def plot3d_over_states(f, zlabel=\"\", ):\n",
    "    A = np.arange(0, MAX_CAPACITY+1)\n",
    "    B = np.arange(0, MAX_CAPACITY+1)\n",
    "    # B, A !!!\n",
    "    B, A = np.meshgrid(B, A)\n",
    "    V = f.reshape(MAX_CAPACITY+1,-1)\n",
    "    fig = plt.figure()\n",
    "    ax = fig.add_subplot(111, projection='3d')\n",
    "    #ax = fig.gca(projection='3d')\n",
    "    #surf = ax.plot_surface(A, B, V, rstride=1, cstride=1, cmap=cm.coolwarm,\n",
    "    #                   linewidth=0, antialiased=False)\n",
    "    #fig.colorbar(surf, shrink=0.5, aspect=5)\n",
    "    ax.scatter(A, B, V, c='b', marker='.')\n",
    "    ax.set_xlabel(\"cars at A\")\n",
    "    ax.set_ylabel(\"cars at B\")\n",
    "    ax.set_zlabel(zlabel)\n",
    " \n",
    "    #ax.view_init(elev=10., azim=10)\n",
    "    \n",
    "    plt.show()"
   ]
  },
  {
   "cell_type": "code",
   "execution_count": null,
   "metadata": {
    "collapsed": false,
    "scrolled": true
   },
   "outputs": [],
   "source": [
    "plot3d_over_states(v_new)"
   ]
  },
  {
   "cell_type": "code",
   "execution_count": null,
   "metadata": {
    "collapsed": false
   },
   "outputs": [],
   "source": [
    "plot3d_over_states(v_new2)"
   ]
  },
  {
   "cell_type": "code",
   "execution_count": null,
   "metadata": {
    "collapsed": true
   },
   "outputs": [],
   "source": [
    "import pickle"
   ]
  },
  {
   "cell_type": "code",
   "execution_count": null,
   "metadata": {
    "collapsed": false
   },
   "outputs": [],
   "source": [
    "pickle.dump( v_new, open( r'/Users/johannesthurn/Documents/HTW/WissRep/v.p', 'wb' ) )"
   ]
  },
  {
   "cell_type": "code",
   "execution_count": null,
   "metadata": {
    "collapsed": false
   },
   "outputs": [],
   "source": [
    "np.max(np.abs(v_new-v_new2))"
   ]
  },
  {
   "cell_type": "code",
   "execution_count": null,
   "metadata": {
    "collapsed": false
   },
   "outputs": [],
   "source": [
    "policy"
   ]
  },
  {
   "cell_type": "code",
   "execution_count": null,
   "metadata": {
    "collapsed": false
   },
   "outputs": [],
   "source": [
    "def policyIteration(v_old, policy_act):\n",
    "    v_new = updateV_Synchron(v_old,policy_act)\n",
    "    \n",
    "    \n",
    "    policyChanged = True\n",
    "    counter = 1\n",
    "    diffPol_L = list()\n",
    "    while policyChanged:\n",
    "        print('Iteration: ' + str(counter))\n",
    "        v_old = v_new\n",
    "        v_new = updateV_Synchron(v_old,policy_act)\n",
    "        policy_test = policy_act\n",
    "        policy_act = policyImprovement(v_new)\n",
    "        diff = np.max(np.abs(v_old-v_new))\n",
    "        test = np.allclose(policy_act,policy_test)\n",
    "        counter += 1\n",
    "        if test:\n",
    "            policyChanged = False\n",
    "        diffPol_L.append((diff,policy_act))\n",
    "    return v_new, policy_act, diffPol_L\n",
    "    \n",
    "        \n",
    "        "
   ]
  },
  {
   "cell_type": "code",
   "execution_count": null,
   "metadata": {
    "collapsed": false
   },
   "outputs": [],
   "source": [
    "v,p, diffPol_L = policyIteration(v_old,policy)"
   ]
  },
  {
   "cell_type": "code",
   "execution_count": null,
   "metadata": {
    "collapsed": false
   },
   "outputs": [],
   "source": [
    "plot3d_over_states(v)"
   ]
  },
  {
   "cell_type": "code",
   "execution_count": null,
   "metadata": {
    "collapsed": true
   },
   "outputs": [],
   "source": [
    "def plot_policy(policy):\n",
    "    MAX_CAPACITY = 20\n",
    "    A = np.arange(0, MAX_CAPACITY+1)\n",
    "    B = np.arange(0, MAX_CAPACITY+1)\n",
    "    A, B = np.meshgrid(A, B)\n",
    "    Po = policy.reshape(MAX_CAPACITY+1,-1)\n",
    "    levels = range(-5,6,1)\n",
    "    plt.figure(figsize=(7,6))\n",
    "    CS = plt.contourf(A, B, Po, levels)\n",
    "    cbar = plt.colorbar(CS)\n",
    "    cbar.ax.set_ylabel('actions')\n",
    "    #plt.clabel(CS, inline=1, fontsize=10)\n",
    "    plt.title('Policy')\n",
    "    plt.xlabel(\"cars at B\")\n",
    "    plt.ylabel(\"cars at A\")"
   ]
  },
  {
   "cell_type": "code",
   "execution_count": null,
   "metadata": {
    "collapsed": true
   },
   "outputs": [],
   "source": [
    "pol = p.copy()"
   ]
  },
  {
   "cell_type": "code",
   "execution_count": null,
   "metadata": {
    "collapsed": false
   },
   "outputs": [],
   "source": [
    "pol.reshape(21,-1)\n",
    "pol = np.argmax(pol,axis=2)\n",
    "plot_policy(pol-5)"
   ]
  },
  {
   "cell_type": "code",
   "execution_count": null,
   "metadata": {
    "collapsed": false
   },
   "outputs": [],
   "source": [
    "pol_4 = diffPol_L[3][1]\n",
    "pol_4.reshape(21,-1)\n",
    "pol_4 = np.argmax(pol_4,axis=2)\n",
    "plot_policy(pol_4-5)"
   ]
  },
  {
   "cell_type": "code",
   "execution_count": null,
   "metadata": {
    "collapsed": false
   },
   "outputs": [],
   "source": [
    "for diff,pol in diffPol_L:\n",
    "    pol = pol.copy()\n",
    "    pol.reshape(21,-1)\n",
    "    pol = np.argmax(pol,axis=2)\n",
    "    plot_policy(pol-5)"
   ]
  },
  {
   "cell_type": "code",
   "execution_count": null,
   "metadata": {
    "collapsed": false
   },
   "outputs": [],
   "source": [
    "pol"
   ]
  },
  {
   "cell_type": "code",
   "execution_count": null,
   "metadata": {
    "collapsed": true
   },
   "outputs": [],
   "source": []
  }
 ],
 "metadata": {
  "kernelspec": {
   "display_name": "Python 3",
   "language": "python",
   "name": "python3"
  },
  "language_info": {
   "codemirror_mode": {
    "name": "ipython",
    "version": 3
   },
   "file_extension": ".py",
   "mimetype": "text/x-python",
   "name": "python",
   "nbconvert_exporter": "python",
   "pygments_lexer": "ipython3",
   "version": "3.5.3"
  }
 },
 "nbformat": 4,
 "nbformat_minor": 2
}
