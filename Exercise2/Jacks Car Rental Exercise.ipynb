{
 "cells": [
  {
   "cell_type": "code",
   "execution_count": 1,
   "metadata": {
    "collapsed": true
   },
   "outputs": [],
   "source": [
    "import numpy as np\n",
    "import numpy.testing as npt\n",
    "import matplotlib.pyplot as plt\n",
    "%matplotlib inline\n",
    "import scipy.stats"
   ]
  },
  {
   "cell_type": "code",
   "execution_count": 2,
   "metadata": {
    "collapsed": true
   },
   "outputs": [],
   "source": [
    "import logging"
   ]
  },
  {
   "cell_type": "code",
   "execution_count": 3,
   "metadata": {
    "collapsed": false
   },
   "outputs": [],
   "source": [
    "from carenv import JacksCarRentalEnvironment"
   ]
  },
  {
   "cell_type": "code",
   "execution_count": 4,
   "metadata": {
    "collapsed": false
   },
   "outputs": [],
   "source": [
    "env = JacksCarRentalEnvironment()"
   ]
  },
  {
   "cell_type": "code",
   "execution_count": 5,
   "metadata": {
    "collapsed": false
   },
   "outputs": [
    {
     "data": {
      "text/plain": [
       "array([10, 10])"
      ]
     },
     "execution_count": 5,
     "metadata": {},
     "output_type": "execute_result"
    }
   ],
   "source": [
    "env.reset()"
   ]
  },
  {
   "cell_type": "code",
   "execution_count": 6,
   "metadata": {
    "collapsed": false
   },
   "outputs": [
    {
     "data": {
      "text/plain": [
       "(array([19,  0]), 60, False, '')"
      ]
     },
     "execution_count": 6,
     "metadata": {},
     "output_type": "execute_result"
    }
   ],
   "source": [
    "#logger.setLevel(logging.INFO)\n",
    "env.step(-5)"
   ]
  },
  {
   "cell_type": "code",
   "execution_count": 7,
   "metadata": {
    "collapsed": false
   },
   "outputs": [
    {
     "data": {
      "text/plain": [
       "(array([20,  2]), 0, False, 'No cars!')"
      ]
     },
     "execution_count": 7,
     "metadata": {},
     "output_type": "execute_result"
    }
   ],
   "source": [
    "env.step(0)"
   ]
  },
  {
   "cell_type": "code",
   "execution_count": 8,
   "metadata": {
    "collapsed": true
   },
   "outputs": [],
   "source": [
    "\n",
    "\n",
    "    #Test your implementation against the following units tests:\n",
    "     #   your env.reset methods must take as additional argument the number of cars at each location after the reset.\n",
    "\n"
   ]
  },
  {
   "cell_type": "code",
   "execution_count": 9,
   "metadata": {
    "collapsed": false
   },
   "outputs": [
    {
     "data": {
      "text/plain": [
       "(array([-3,  6]), -10, False, 'No cars!')"
      ]
     },
     "execution_count": 9,
     "metadata": {},
     "output_type": "execute_result"
    }
   ],
   "source": [
    "env.reset(0) \n",
    "# the state is now [0, 0]\n",
    "env.step(5)"
   ]
  },
  {
   "cell_type": "code",
   "execution_count": 10,
   "metadata": {
    "collapsed": true
   },
   "outputs": [],
   "source": [
    "import unittest\n",
    "class TestJacksCarRentalEnvironment(unittest.TestCase):\n",
    "    # there are a lot of magic numbers in this test\n",
    "    # these numbers depending on the env parameters!\n",
    "    \n",
    "    def setUp(self):\n",
    "        self.env = JacksCarRentalEnvironment()\n",
    "        \n",
    "    def _avg_mean(self, cars, action, t_mean, max_diff=1.):\n",
    "        env = self.env\n",
    "        n = 10000\n",
    "        r_mean = 0\n",
    "        for i in range(n):\n",
    "            env.reset(cars)\n",
    "            _, r, _,_ = env.step(action)\n",
    "            r_mean += r\n",
    "        r_mean = r_mean / n\n",
    "        diff = np.abs(r_mean - t_mean)\n",
    "        self.assertTrue(diff < max_diff)\n",
    "    \n",
    "    def test_rent0(self):\n",
    "        self._avg_mean(20, 0, 70)\n",
    "        \n",
    "    def test_rent1(self):\n",
    "        self._avg_mean(10, 0, 70)    \n",
    "        \n",
    "    def test_nightly_moves(self):\n",
    "        env.reset(0)\n",
    "        _, r, _,_ = env.step(5)\n",
    "        self.assertTrue(r==-10.)\n",
    "        \n",
    "    def _avg_nb_cars(self, a_desired, b_desired, \n",
    "                     cars, action):\n",
    "        \n",
    "        env = self.env\n",
    "        n = 10000\n",
    "        a_mean = 0\n",
    "        b_mean = 0\n",
    "        for i in range(n):\n",
    "            env.reset(cars)\n",
    "            ab, _, _,_ = env.step(action)\n",
    "            a_mean += ab[0]\n",
    "            b_mean += ab[1]\n",
    "        a_diff = np.abs((a_mean / n) - a_desired)\n",
    "        b_diff = np.abs((b_mean / n) - b_desired)\n",
    "        self.assertTrue(a_diff < 0.5)\n",
    "        self.assertTrue(b_diff < 0.5)\n",
    "    \n",
    "    def test_nb_cars_10_0(self):\n",
    "        a_desired = 10\n",
    "        b_desired = 8 \n",
    "        cars = 10\n",
    "        action = 0\n",
    "        self._avg_nb_cars(a_desired, b_desired, \n",
    "                     cars, action)\n",
    "        \n",
    "    def test_nb_cars_10_3(self):\n",
    "        a_desired = 7\n",
    "        b_desired = 11 \n",
    "        cars = 10\n",
    "        action = 3\n",
    "        self._avg_nb_cars(a_desired, b_desired, \n",
    "                     cars, action)\n",
    "        \n",
    "    def test_nb_cars_10_m2(self):\n",
    "        a_desired = 12\n",
    "        b_desired = 6 \n",
    "        cars = 10\n",
    "        action = -2\n",
    "        self._avg_nb_cars(a_desired, b_desired, \n",
    "                     cars, action)"
   ]
  },
  {
   "cell_type": "code",
   "execution_count": 11,
   "metadata": {
    "collapsed": false
   },
   "outputs": [
    {
     "name": "stderr",
     "output_type": "stream",
     "text": [
      "FFF.FF\n",
      "======================================================================\n",
      "FAIL: test_nb_cars_10_0 (__main__.TestJacksCarRentalEnvironment)\n",
      "----------------------------------------------------------------------\n",
      "Traceback (most recent call last):\n",
      "  File \"<ipython-input-10-b0a0cfa4b1c2>\", line 55, in test_nb_cars_10_0\n",
      "    cars, action)\n",
      "  File \"<ipython-input-10-b0a0cfa4b1c2>\", line 46, in _avg_nb_cars\n",
      "    self.assertTrue(a_diff < 0.5)\n",
      "AssertionError: False is not true\n",
      "\n",
      "======================================================================\n",
      "FAIL: test_nb_cars_10_3 (__main__.TestJacksCarRentalEnvironment)\n",
      "----------------------------------------------------------------------\n",
      "Traceback (most recent call last):\n",
      "  File \"<ipython-input-10-b0a0cfa4b1c2>\", line 63, in test_nb_cars_10_3\n",
      "    cars, action)\n",
      "  File \"<ipython-input-10-b0a0cfa4b1c2>\", line 46, in _avg_nb_cars\n",
      "    self.assertTrue(a_diff < 0.5)\n",
      "AssertionError: False is not true\n",
      "\n",
      "======================================================================\n",
      "FAIL: test_nb_cars_10_m2 (__main__.TestJacksCarRentalEnvironment)\n",
      "----------------------------------------------------------------------\n",
      "Traceback (most recent call last):\n",
      "  File \"<ipython-input-10-b0a0cfa4b1c2>\", line 71, in test_nb_cars_10_m2\n",
      "    cars, action)\n",
      "  File \"<ipython-input-10-b0a0cfa4b1c2>\", line 46, in _avg_nb_cars\n",
      "    self.assertTrue(a_diff < 0.5)\n",
      "AssertionError: False is not true\n",
      "\n",
      "======================================================================\n",
      "FAIL: test_rent0 (__main__.TestJacksCarRentalEnvironment)\n",
      "----------------------------------------------------------------------\n",
      "Traceback (most recent call last):\n",
      "  File \"<ipython-input-10-b0a0cfa4b1c2>\", line 22, in test_rent0\n",
      "    self._avg_mean(20, 0, 70)\n",
      "  File \"<ipython-input-10-b0a0cfa4b1c2>\", line 19, in _avg_mean\n",
      "    self.assertTrue(diff < max_diff)\n",
      "AssertionError: False is not true\n",
      "\n",
      "======================================================================\n",
      "FAIL: test_rent1 (__main__.TestJacksCarRentalEnvironment)\n",
      "----------------------------------------------------------------------\n",
      "Traceback (most recent call last):\n",
      "  File \"<ipython-input-10-b0a0cfa4b1c2>\", line 25, in test_rent1\n",
      "    self._avg_mean(10, 0, 70)\n",
      "  File \"<ipython-input-10-b0a0cfa4b1c2>\", line 19, in _avg_mean\n",
      "    self.assertTrue(diff < max_diff)\n",
      "AssertionError: False is not true\n",
      "\n",
      "----------------------------------------------------------------------\n",
      "Ran 6 tests in 1.363s\n",
      "\n",
      "FAILED (failures=5)\n"
     ]
    },
    {
     "data": {
      "text/plain": [
       "<unittest.main.TestProgram at 0x7f20fd9d9e50>"
      ]
     },
     "execution_count": 11,
     "metadata": {},
     "output_type": "execute_result"
    }
   ],
   "source": [
    "\n",
    "\n",
    "unittest.main(argv=['first-arg-is-ignored'], exit=False)\n",
    "\n"
   ]
  },
  {
   "cell_type": "code",
   "execution_count": null,
   "metadata": {
    "collapsed": true
   },
   "outputs": [],
   "source": []
  },
  {
   "cell_type": "code",
   "execution_count": null,
   "metadata": {
    "collapsed": true
   },
   "outputs": [],
   "source": []
  }
 ],
 "metadata": {
  "kernelspec": {
   "display_name": "Python 2",
   "language": "python",
   "name": "python2"
  },
  "language_info": {
   "codemirror_mode": {
    "name": "ipython",
    "version": 2
   },
   "file_extension": ".py",
   "mimetype": "text/x-python",
   "name": "python",
   "nbconvert_exporter": "python",
   "pygments_lexer": "ipython2",
   "version": "2.7.13"
  }
 },
 "nbformat": 4,
 "nbformat_minor": 2
}
