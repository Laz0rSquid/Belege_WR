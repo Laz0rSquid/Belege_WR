{
 "cells": [
  {
   "cell_type": "code",
   "execution_count": 1,
   "metadata": {
    "collapsed": true
   },
   "outputs": [],
   "source": [
    "import numpy as np\n",
    "import numpy.testing as npt\n",
    "import matplotlib.pyplot as plt\n",
    "%matplotlib inline\n",
    "import scipy.stats"
   ]
  },
  {
   "cell_type": "code",
   "execution_count": 2,
   "metadata": {
    "collapsed": true
   },
   "outputs": [],
   "source": [
    "import logging"
   ]
  },
  {
   "cell_type": "code",
   "execution_count": 8,
   "metadata": {
    "collapsed": false
   },
   "outputs": [
    {
     "ename": "ValueError",
     "evalue": "Attempted relative import in non-package",
     "output_type": "error",
     "traceback": [
      "\u001b[0;31m---------------------------------------------------------------------------\u001b[0m",
      "\u001b[0;31mValueError\u001b[0m                                Traceback (most recent call last)",
      "\u001b[0;32m<ipython-input-8-5e9d13dae62a>\u001b[0m in \u001b[0;36m<module>\u001b[0;34m()\u001b[0m\n\u001b[0;32m----> 1\u001b[0;31m \u001b[0;32mfrom\u001b[0m \u001b[0;34m.\u001b[0m\u001b[0;34m.\u001b[0m \u001b[0;32mimport\u001b[0m \u001b[0mJacksCarRentalEnvironment\u001b[0m\u001b[0;34m\u001b[0m\u001b[0m\n\u001b[0m",
      "\u001b[0;31mValueError\u001b[0m: Attempted relative import in non-package"
     ]
    }
   ],
   "source": [
    "from .. import JacksCarRentalEnvironment"
   ]
  },
  {
   "cell_type": "code",
   "execution_count": 7,
   "metadata": {
    "collapsed": false
   },
   "outputs": [
    {
     "ename": "NameError",
     "evalue": "name 'JacksCarRentalEnvironment' is not defined",
     "output_type": "error",
     "traceback": [
      "\u001b[0;31m---------------------------------------------------------------------------\u001b[0m",
      "\u001b[0;31mNameError\u001b[0m                                 Traceback (most recent call last)",
      "\u001b[0;32m<ipython-input-7-fee96c370571>\u001b[0m in \u001b[0;36m<module>\u001b[0;34m()\u001b[0m\n\u001b[0;32m----> 1\u001b[0;31m \u001b[0menv\u001b[0m \u001b[0;34m=\u001b[0m \u001b[0mJacksCarRentalEnvironment\u001b[0m\u001b[0;34m(\u001b[0m\u001b[0;34m)\u001b[0m\u001b[0;34m\u001b[0m\u001b[0m\n\u001b[0m",
      "\u001b[0;31mNameError\u001b[0m: name 'JacksCarRentalEnvironment' is not defined"
     ]
    }
   ],
   "source": [
    "env = JacksCarRentalEnvironment()"
   ]
  },
  {
   "cell_type": "code",
   "execution_count": null,
   "metadata": {
    "collapsed": true
   },
   "outputs": [],
   "source": [
    "env.reset()"
   ]
  },
  {
   "cell_type": "code",
   "execution_count": null,
   "metadata": {
    "collapsed": true
   },
   "outputs": [],
   "source": [
    "logger.setLevel(logging.INFO)\n",
    "env.step(-5)"
   ]
  },
  {
   "cell_type": "code",
   "execution_count": null,
   "metadata": {
    "collapsed": true
   },
   "outputs": [],
   "source": [
    "env.step(0)"
   ]
  },
  {
   "cell_type": "code",
   "execution_count": null,
   "metadata": {
    "collapsed": true
   },
   "outputs": [],
   "source": [
    "\n",
    "\n",
    "    #Test your implementation against the following units tests:\n",
    "     #   your env.reset methods must take as additional argument the number of cars at each location after the reset.\n",
    "\n"
   ]
  },
  {
   "cell_type": "code",
   "execution_count": null,
   "metadata": {
    "collapsed": true
   },
   "outputs": [],
   "source": [
    "env.reset(0) \n",
    "# the state is now [0, 0]\n",
    "env.step(5)"
   ]
  },
  {
   "cell_type": "code",
   "execution_count": null,
   "metadata": {
    "collapsed": true
   },
   "outputs": [],
   "source": [
    "import unittest\n",
    "class TestJacksCarRentalEnvironment(unittest.TestCase):\n",
    "    # there are a lot of magic numbers in this test\n",
    "    # these numbers depending on the env parameters!\n",
    "    \n",
    "    def setUp(self):\n",
    "        self.env = JacksCarRentalEnvironment()\n",
    "        \n",
    "    def _avg_mean(self, cars, action, t_mean, max_diff=1.):\n",
    "        env = self.env\n",
    "        n = 10000\n",
    "        r_mean = 0\n",
    "        for i in range(n):\n",
    "            env.reset(cars)\n",
    "            _, r, _,_ = env.step(action)\n",
    "            r_mean += r\n",
    "        r_mean = r_mean / n\n",
    "        diff = np.abs(r_mean - t_mean)\n",
    "        self.assertTrue(diff < max_diff)\n",
    "    \n",
    "    def test_rent0(self):\n",
    "        self._avg_mean(20, 0, 70)\n",
    "        \n",
    "    def test_rent1(self):\n",
    "        self._avg_mean(10, 0, 70)    \n",
    "        \n",
    "    def test_nightly_moves(self):\n",
    "        env.reset(0)\n",
    "        _, r, _,_ = env.step(5)\n",
    "        self.assertTrue(r==-10.)\n",
    "        \n",
    "    def _avg_nb_cars(self, a_desired, b_desired, \n",
    "                     cars, action):\n",
    "        \n",
    "        env = self.env\n",
    "        n = 10000\n",
    "        a_mean = 0\n",
    "        b_mean = 0\n",
    "        for i in range(n):\n",
    "            env.reset(cars)\n",
    "            ab, _, _,_ = env.step(action)\n",
    "            a_mean += ab[0]\n",
    "            b_mean += ab[1]\n",
    "        a_diff = np.abs((a_mean / n) - a_desired)\n",
    "        b_diff = np.abs((b_mean / n) - b_desired)\n",
    "        self.assertTrue(a_diff < 0.5)\n",
    "        self.assertTrue(b_diff < 0.5)\n",
    "    \n",
    "    def test_nb_cars_10_0(self):\n",
    "        a_desired = 10\n",
    "        b_desired = 8 \n",
    "        cars = 10\n",
    "        action = 0\n",
    "        self._avg_nb_cars(a_desired, b_desired, \n",
    "                     cars, action)\n",
    "        \n",
    "    def test_nb_cars_10_3(self):\n",
    "        a_desired = 7\n",
    "        b_desired = 11 \n",
    "        cars = 10\n",
    "        action = 3\n",
    "        self._avg_nb_cars(a_desired, b_desired, \n",
    "                     cars, action)\n",
    "        \n",
    "    def test_nb_cars_10_m2(self):\n",
    "        a_desired = 12\n",
    "        b_desired = 6 \n",
    "        cars = 10\n",
    "        action = -2\n",
    "        self._avg_nb_cars(a_desired, b_desired, \n",
    "                     cars, action)"
   ]
  },
  {
   "cell_type": "code",
   "execution_count": null,
   "metadata": {
    "collapsed": true
   },
   "outputs": [],
   "source": [
    "\n",
    "\n",
    "unittest.main(argv=['first-arg-is-ignored'], exit=False)\n",
    "\n"
   ]
  },
  {
   "cell_type": "code",
   "execution_count": null,
   "metadata": {
    "collapsed": true
   },
   "outputs": [],
   "source": []
  }
 ],
 "metadata": {
  "kernelspec": {
   "display_name": "Python 2",
   "language": "python",
   "name": "python2"
  },
  "language_info": {
   "codemirror_mode": {
    "name": "ipython",
    "version": 2
   },
   "file_extension": ".py",
   "mimetype": "text/x-python",
   "name": "python",
   "nbconvert_exporter": "python",
   "pygments_lexer": "ipython2",
   "version": "2.7.13"
  }
 },
 "nbformat": 4,
 "nbformat_minor": 2
}
